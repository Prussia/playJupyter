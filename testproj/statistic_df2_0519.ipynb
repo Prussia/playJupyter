{
 "cells": [
  {
   "cell_type": "code",
   "execution_count": 3,
   "id": "3f14e010-bd11-4ff1-92cb-2d0615859da4",
   "metadata": {},
   "outputs": [],
   "source": [
    "import pandas as pd\n",
    "import numpy as np\n",
    "from datetime import date\n",
    "from dateutil.relativedelta import relativedelta\n",
    "\n",
    "import warnings\n",
    "\n",
    "# 忽略所有警告\n",
    "warnings.filterwarnings('ignore')"
   ]
  },
  {
   "cell_type": "code",
   "execution_count": 4,
   "id": "f799c1dd-9a63-4e41-91c9-563b7f732357",
   "metadata": {},
   "outputs": [],
   "source": [
    "df2 = pd.read_excel('TRD_Mnth.xlsx', engine='openpyxl')\n"
   ]
  },
  {
   "cell_type": "code",
   "execution_count": 8,
   "id": "d4aa9aa7-e368-4b07-868a-607cb52a7a13",
   "metadata": {},
   "outputs": [],
   "source": [
    "df2['交易月份DT'] = pd.to_datetime(df2['交易月份'])"
   ]
  },
  {
   "cell_type": "code",
   "execution_count": 11,
   "id": "8d4f4914-9caa-4b56-baf9-c825e0d7363d",
   "metadata": {},
   "outputs": [],
   "source": [
    "df2 = df2[['证券代码','交易月份','个股市值','个股月回报率','交易月份DT']]"
   ]
  },
  {
   "cell_type": "code",
   "execution_count": 16,
   "id": "4831d609-10a1-402b-a99e-8c014aed8ba3",
   "metadata": {},
   "outputs": [
    {
     "data": {
      "text/html": [
       "<div>\n",
       "<style scoped>\n",
       "    .dataframe tbody tr th:only-of-type {\n",
       "        vertical-align: middle;\n",
       "    }\n",
       "\n",
       "    .dataframe tbody tr th {\n",
       "        vertical-align: top;\n",
       "    }\n",
       "\n",
       "    .dataframe thead th {\n",
       "        text-align: right;\n",
       "    }\n",
       "</style>\n",
       "<table border=\"1\" class=\"dataframe\">\n",
       "  <thead>\n",
       "    <tr style=\"text-align: right;\">\n",
       "      <th></th>\n",
       "      <th>证券代码</th>\n",
       "      <th>交易月份</th>\n",
       "      <th>个股市值</th>\n",
       "      <th>个股月回报率</th>\n",
       "      <th>交易月份DT</th>\n",
       "    </tr>\n",
       "  </thead>\n",
       "  <tbody>\n",
       "    <tr>\n",
       "      <th>0</th>\n",
       "      <td>1</td>\n",
       "      <td>2010-01</td>\n",
       "      <td>67387912.64</td>\n",
       "      <td>-0.109561</td>\n",
       "      <td>2010-01-01</td>\n",
       "    </tr>\n",
       "    <tr>\n",
       "      <th>1</th>\n",
       "      <td>1</td>\n",
       "      <td>2010-02</td>\n",
       "      <td>69716987.96</td>\n",
       "      <td>0.034562</td>\n",
       "      <td>2010-02-01</td>\n",
       "    </tr>\n",
       "    <tr>\n",
       "      <th>2</th>\n",
       "      <td>1</td>\n",
       "      <td>2010-03</td>\n",
       "      <td>72046063.28</td>\n",
       "      <td>0.033408</td>\n",
       "      <td>2010-03-01</td>\n",
       "    </tr>\n",
       "    <tr>\n",
       "      <th>3</th>\n",
       "      <td>1</td>\n",
       "      <td>2010-04</td>\n",
       "      <td>63847718.15</td>\n",
       "      <td>-0.113793</td>\n",
       "      <td>2010-04-01</td>\n",
       "    </tr>\n",
       "    <tr>\n",
       "      <th>4</th>\n",
       "      <td>1</td>\n",
       "      <td>2010-05</td>\n",
       "      <td>54376145.17</td>\n",
       "      <td>-0.148346</td>\n",
       "      <td>2010-05-01</td>\n",
       "    </tr>\n",
       "    <tr>\n",
       "      <th>...</th>\n",
       "      <td>...</td>\n",
       "      <td>...</td>\n",
       "      <td>...</td>\n",
       "      <td>...</td>\n",
       "      <td>...</td>\n",
       "    </tr>\n",
       "    <tr>\n",
       "      <th>573112</th>\n",
       "      <td>900957</td>\n",
       "      <td>2023-11</td>\n",
       "      <td>144486.00</td>\n",
       "      <td>0.037596</td>\n",
       "      <td>2023-11-01</td>\n",
       "    </tr>\n",
       "    <tr>\n",
       "      <th>573113</th>\n",
       "      <td>900957</td>\n",
       "      <td>2023-12</td>\n",
       "      <td>144137.00</td>\n",
       "      <td>-0.002418</td>\n",
       "      <td>2023-12-01</td>\n",
       "    </tr>\n",
       "    <tr>\n",
       "      <th>573114</th>\n",
       "      <td>900957</td>\n",
       "      <td>2024-01</td>\n",
       "      <td>143788.00</td>\n",
       "      <td>-0.002430</td>\n",
       "      <td>2024-01-01</td>\n",
       "    </tr>\n",
       "    <tr>\n",
       "      <th>573115</th>\n",
       "      <td>900957</td>\n",
       "      <td>2024-02</td>\n",
       "      <td>155305.00</td>\n",
       "      <td>0.080101</td>\n",
       "      <td>2024-02-01</td>\n",
       "    </tr>\n",
       "    <tr>\n",
       "      <th>573116</th>\n",
       "      <td>900957</td>\n",
       "      <td>2024-03</td>\n",
       "      <td>145882.00</td>\n",
       "      <td>-0.060674</td>\n",
       "      <td>2024-03-01</td>\n",
       "    </tr>\n",
       "  </tbody>\n",
       "</table>\n",
       "<p>573117 rows × 5 columns</p>\n",
       "</div>"
      ],
      "text/plain": [
       "          证券代码     交易月份         个股市值    个股月回报率     交易月份DT\n",
       "0            1  2010-01  67387912.64 -0.109561 2010-01-01\n",
       "1            1  2010-02  69716987.96  0.034562 2010-02-01\n",
       "2            1  2010-03  72046063.28  0.033408 2010-03-01\n",
       "3            1  2010-04  63847718.15 -0.113793 2010-04-01\n",
       "4            1  2010-05  54376145.17 -0.148346 2010-05-01\n",
       "...        ...      ...          ...       ...        ...\n",
       "573112  900957  2023-11    144486.00  0.037596 2023-11-01\n",
       "573113  900957  2023-12    144137.00 -0.002418 2023-12-01\n",
       "573114  900957  2024-01    143788.00 -0.002430 2024-01-01\n",
       "573115  900957  2024-02    155305.00  0.080101 2024-02-01\n",
       "573116  900957  2024-03    145882.00 -0.060674 2024-03-01\n",
       "\n",
       "[573117 rows x 5 columns]"
      ]
     },
     "execution_count": 16,
     "metadata": {},
     "output_type": "execute_result"
    }
   ],
   "source": [
    "df2"
   ]
  },
  {
   "cell_type": "code",
   "execution_count": 13,
   "id": "8c7b0617-d3fb-45f4-be1f-5a634791672b",
   "metadata": {},
   "outputs": [
    {
     "name": "stdout",
     "output_type": "stream",
     "text": [
      "<class 'pandas.core.frame.DataFrame'>\n",
      "RangeIndex: 573117 entries, 0 to 573116\n",
      "Data columns (total 5 columns):\n",
      " #   Column  Non-Null Count   Dtype         \n",
      "---  ------  --------------   -----         \n",
      " 0   证券代码    573117 non-null  int64         \n",
      " 1   交易月份    573117 non-null  object        \n",
      " 2   个股市值    573117 non-null  float64       \n",
      " 3   个股月回报率  569272 non-null  float64       \n",
      " 4   交易月份DT  573117 non-null  datetime64[ns]\n",
      "dtypes: datetime64[ns](1), float64(2), int64(1), object(1)\n",
      "memory usage: 21.9+ MB\n"
     ]
    }
   ],
   "source": [
    "df2.info()"
   ]
  },
  {
   "cell_type": "code",
   "execution_count": 15,
   "id": "13c7e27d-6ebe-44e2-993f-ed6dbd1b882b",
   "metadata": {},
   "outputs": [
    {
     "data": {
      "text/html": [
       "<div>\n",
       "<style scoped>\n",
       "    .dataframe tbody tr th:only-of-type {\n",
       "        vertical-align: middle;\n",
       "    }\n",
       "\n",
       "    .dataframe tbody tr th {\n",
       "        vertical-align: top;\n",
       "    }\n",
       "\n",
       "    .dataframe thead th {\n",
       "        text-align: right;\n",
       "    }\n",
       "</style>\n",
       "<table border=\"1\" class=\"dataframe\">\n",
       "  <thead>\n",
       "    <tr style=\"text-align: right;\">\n",
       "      <th></th>\n",
       "      <th>证券代码</th>\n",
       "      <th>个股市值</th>\n",
       "      <th>个股月回报率</th>\n",
       "    </tr>\n",
       "  </thead>\n",
       "  <tbody>\n",
       "    <tr>\n",
       "      <th>count</th>\n",
       "      <td>573117.000000</td>\n",
       "      <td>5.731170e+05</td>\n",
       "      <td>569272.000000</td>\n",
       "    </tr>\n",
       "    <tr>\n",
       "      <th>mean</th>\n",
       "      <td>324956.214947</td>\n",
       "      <td>1.469032e+07</td>\n",
       "      <td>0.008818</td>\n",
       "    </tr>\n",
       "    <tr>\n",
       "      <th>std</th>\n",
       "      <td>281042.370435</td>\n",
       "      <td>5.613626e+07</td>\n",
       "      <td>0.156299</td>\n",
       "    </tr>\n",
       "    <tr>\n",
       "      <th>min</th>\n",
       "      <td>1.000000</td>\n",
       "      <td>6.930000e+03</td>\n",
       "      <td>-0.891827</td>\n",
       "    </tr>\n",
       "    <tr>\n",
       "      <th>25%</th>\n",
       "      <td>2398.000000</td>\n",
       "      <td>2.922487e+06</td>\n",
       "      <td>-0.070985</td>\n",
       "    </tr>\n",
       "    <tr>\n",
       "      <th>50%</th>\n",
       "      <td>300461.000000</td>\n",
       "      <td>5.168000e+06</td>\n",
       "      <td>-0.003951</td>\n",
       "    </tr>\n",
       "    <tr>\n",
       "      <th>75%</th>\n",
       "      <td>600725.000000</td>\n",
       "      <td>1.082820e+07</td>\n",
       "      <td>0.069768</td>\n",
       "    </tr>\n",
       "    <tr>\n",
       "      <th>max</th>\n",
       "      <td>900957.000000</td>\n",
       "      <td>2.786247e+09</td>\n",
       "      <td>12.848213</td>\n",
       "    </tr>\n",
       "  </tbody>\n",
       "</table>\n",
       "</div>"
      ],
      "text/plain": [
       "                证券代码          个股市值         个股月回报率\n",
       "count  573117.000000  5.731170e+05  569272.000000\n",
       "mean   324956.214947  1.469032e+07       0.008818\n",
       "std    281042.370435  5.613626e+07       0.156299\n",
       "min         1.000000  6.930000e+03      -0.891827\n",
       "25%      2398.000000  2.922487e+06      -0.070985\n",
       "50%    300461.000000  5.168000e+06      -0.003951\n",
       "75%    600725.000000  1.082820e+07       0.069768\n",
       "max    900957.000000  2.786247e+09      12.848213"
      ]
     },
     "execution_count": 15,
     "metadata": {},
     "output_type": "execute_result"
    }
   ],
   "source": [
    "df2.describe()"
   ]
  },
  {
   "cell_type": "code",
   "execution_count": 18,
   "id": "556f248f-6c39-4ce4-8d51-675c46fe7bb3",
   "metadata": {},
   "outputs": [],
   "source": [
    "\n",
    "df2_filtered = df2[(df2['交易月份DT'] > '2013-04-01') & (df2['交易月份DT'] < '2021-01-01')]"
   ]
  },
  {
   "cell_type": "code",
   "execution_count": 19,
   "id": "34b487dc-a5c8-4a49-9582-e5ac98fc700e",
   "metadata": {
    "scrolled": true
   },
   "outputs": [
    {
     "data": {
      "text/html": [
       "<div>\n",
       "<style scoped>\n",
       "    .dataframe tbody tr th:only-of-type {\n",
       "        vertical-align: middle;\n",
       "    }\n",
       "\n",
       "    .dataframe tbody tr th {\n",
       "        vertical-align: top;\n",
       "    }\n",
       "\n",
       "    .dataframe thead th {\n",
       "        text-align: right;\n",
       "    }\n",
       "</style>\n",
       "<table border=\"1\" class=\"dataframe\">\n",
       "  <thead>\n",
       "    <tr style=\"text-align: right;\">\n",
       "      <th></th>\n",
       "      <th>证券代码</th>\n",
       "      <th>交易月份</th>\n",
       "      <th>个股市值</th>\n",
       "      <th>个股月回报率</th>\n",
       "      <th>交易月份DT</th>\n",
       "    </tr>\n",
       "  </thead>\n",
       "  <tbody>\n",
       "    <tr>\n",
       "      <th>38</th>\n",
       "      <td>1</td>\n",
       "      <td>2013-05</td>\n",
       "      <td>1.075391e+08</td>\n",
       "      <td>0.122460</td>\n",
       "      <td>2013-05-01</td>\n",
       "    </tr>\n",
       "    <tr>\n",
       "      <th>39</th>\n",
       "      <td>1</td>\n",
       "      <td>2013-06</td>\n",
       "      <td>8.172769e+07</td>\n",
       "      <td>-0.232797</td>\n",
       "      <td>2013-06-01</td>\n",
       "    </tr>\n",
       "    <tr>\n",
       "      <th>40</th>\n",
       "      <td>1</td>\n",
       "      <td>2013-07</td>\n",
       "      <td>7.861269e+07</td>\n",
       "      <td>-0.038114</td>\n",
       "      <td>2013-07-01</td>\n",
       "    </tr>\n",
       "    <tr>\n",
       "      <th>41</th>\n",
       "      <td>1</td>\n",
       "      <td>2013-08</td>\n",
       "      <td>8.697400e+07</td>\n",
       "      <td>0.106361</td>\n",
       "      <td>2013-08-01</td>\n",
       "    </tr>\n",
       "    <tr>\n",
       "      <th>42</th>\n",
       "      <td>1</td>\n",
       "      <td>2013-09</td>\n",
       "      <td>9.738464e+07</td>\n",
       "      <td>0.119698</td>\n",
       "      <td>2013-09-01</td>\n",
       "    </tr>\n",
       "    <tr>\n",
       "      <th>...</th>\n",
       "      <td>...</td>\n",
       "      <td>...</td>\n",
       "      <td>...</td>\n",
       "      <td>...</td>\n",
       "      <td>...</td>\n",
       "    </tr>\n",
       "    <tr>\n",
       "      <th>573073</th>\n",
       "      <td>900957</td>\n",
       "      <td>2020-08</td>\n",
       "      <td>1.902050e+05</td>\n",
       "      <td>-0.058721</td>\n",
       "      <td>2020-08-01</td>\n",
       "    </tr>\n",
       "    <tr>\n",
       "      <th>573074</th>\n",
       "      <td>900957</td>\n",
       "      <td>2020-09</td>\n",
       "      <td>1.786880e+05</td>\n",
       "      <td>-0.060548</td>\n",
       "      <td>2020-09-01</td>\n",
       "    </tr>\n",
       "    <tr>\n",
       "      <th>573075</th>\n",
       "      <td>900957</td>\n",
       "      <td>2020-10</td>\n",
       "      <td>1.797350e+05</td>\n",
       "      <td>0.005857</td>\n",
       "      <td>2020-10-01</td>\n",
       "    </tr>\n",
       "    <tr>\n",
       "      <th>573076</th>\n",
       "      <td>900957</td>\n",
       "      <td>2020-11</td>\n",
       "      <td>1.821780e+05</td>\n",
       "      <td>0.013589</td>\n",
       "      <td>2020-11-01</td>\n",
       "    </tr>\n",
       "    <tr>\n",
       "      <th>573077</th>\n",
       "      <td>900957</td>\n",
       "      <td>2020-12</td>\n",
       "      <td>1.755470e+05</td>\n",
       "      <td>-0.036398</td>\n",
       "      <td>2020-12-01</td>\n",
       "    </tr>\n",
       "  </tbody>\n",
       "</table>\n",
       "<p>289177 rows × 5 columns</p>\n",
       "</div>"
      ],
      "text/plain": [
       "          证券代码     交易月份          个股市值    个股月回报率     交易月份DT\n",
       "38           1  2013-05  1.075391e+08  0.122460 2013-05-01\n",
       "39           1  2013-06  8.172769e+07 -0.232797 2013-06-01\n",
       "40           1  2013-07  7.861269e+07 -0.038114 2013-07-01\n",
       "41           1  2013-08  8.697400e+07  0.106361 2013-08-01\n",
       "42           1  2013-09  9.738464e+07  0.119698 2013-09-01\n",
       "...        ...      ...           ...       ...        ...\n",
       "573073  900957  2020-08  1.902050e+05 -0.058721 2020-08-01\n",
       "573074  900957  2020-09  1.786880e+05 -0.060548 2020-09-01\n",
       "573075  900957  2020-10  1.797350e+05  0.005857 2020-10-01\n",
       "573076  900957  2020-11  1.821780e+05  0.013589 2020-11-01\n",
       "573077  900957  2020-12  1.755470e+05 -0.036398 2020-12-01\n",
       "\n",
       "[289177 rows x 5 columns]"
      ]
     },
     "execution_count": 19,
     "metadata": {},
     "output_type": "execute_result"
    }
   ],
   "source": [
    "df2_filtered"
   ]
  },
  {
   "cell_type": "code",
   "execution_count": 21,
   "id": "bc7bdbd5-d0c0-45d1-bf0c-d59c1b95d62c",
   "metadata": {},
   "outputs": [],
   "source": [
    "df2_count = df2_filtered.groupby(by=[\"交易月份DT\"]).count()"
   ]
  },
  {
   "cell_type": "code",
   "execution_count": 22,
   "id": "74077eae-7e11-45c1-a331-b1bf96e7fef4",
   "metadata": {},
   "outputs": [],
   "source": [
    "df2_count_final = df2_count['个股月回报率']\n"
   ]
  },
  {
   "cell_type": "code",
   "execution_count": 23,
   "id": "a47eb124-9d19-447b-950c-f57f3d5aa5fd",
   "metadata": {},
   "outputs": [
    {
     "data": {
      "text/plain": [
       "交易月份DT\n",
       "2013-05-01    2531\n",
       "2013-06-01    2508\n",
       "2013-07-01    2517\n",
       "2013-08-01    2517\n",
       "2013-09-01    2506\n",
       "              ... \n",
       "2020-08-01    4028\n",
       "2020-09-01    4083\n",
       "2020-10-01    4149\n",
       "2020-11-01    4178\n",
       "2020-12-01    4201\n",
       "Name: 个股月回报率, Length: 92, dtype: int64"
      ]
     },
     "execution_count": 23,
     "metadata": {},
     "output_type": "execute_result"
    }
   ],
   "source": [
    "df2_count_final"
   ]
  },
  {
   "cell_type": "code",
   "execution_count": 25,
   "id": "723ab8d3-6e6c-47aa-b523-f1aab0a88308",
   "metadata": {},
   "outputs": [],
   "source": [
    "df2_count_final.to_excel('df2_count_statistic.xlsx')"
   ]
  },
  {
   "cell_type": "code",
   "execution_count": 26,
   "id": "c51a380b-e88e-4a02-9cae-389d9d7f7e52",
   "metadata": {},
   "outputs": [
    {
     "data": {
      "text/plain": [
       "count      92.000000\n",
       "mean     3124.054348\n",
       "std       557.022310\n",
       "min      2472.000000\n",
       "25%      2533.250000\n",
       "50%      3042.500000\n",
       "75%      3659.000000\n",
       "max      4201.000000\n",
       "Name: 个股月回报率, dtype: float64"
      ]
     },
     "execution_count": 26,
     "metadata": {},
     "output_type": "execute_result"
    }
   ],
   "source": [
    "df2_count_final.describe()"
   ]
  },
  {
   "cell_type": "code",
   "execution_count": null,
   "id": "08ea6716-9e22-4dd5-9b5d-88ef4800c5cc",
   "metadata": {},
   "outputs": [],
   "source": []
  }
 ],
 "metadata": {
  "kernelspec": {
   "display_name": "Python 3 (ipykernel)",
   "language": "python",
   "name": "python3"
  },
  "language_info": {
   "codemirror_mode": {
    "name": "ipython",
    "version": 3
   },
   "file_extension": ".py",
   "mimetype": "text/x-python",
   "name": "python",
   "nbconvert_exporter": "python",
   "pygments_lexer": "ipython3",
   "version": "3.8.13"
  }
 },
 "nbformat": 4,
 "nbformat_minor": 5
}
