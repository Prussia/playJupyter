{
 "cells": [
  {
   "cell_type": "code",
   "execution_count": null,
   "id": "7ce546e8-8586-4174-809d-0f54e97ff5e6",
   "metadata": {},
   "outputs": [],
   "source": [
    "#! pip install openpyxl"
   ]
  },
  {
   "cell_type": "code",
   "execution_count": 23,
   "id": "ee736fec-7ea2-484b-86a3-5b15c24c922e",
   "metadata": {},
   "outputs": [],
   "source": [
    "import pandas as pd\n",
    "\n",
    "# import data\n",
    "df1 = pd.read_excel('十大股东文件2.xlsx')"
   ]
  },
  {
   "cell_type": "code",
   "execution_count": 24,
   "id": "2dc45635-44e1-485c-a864-f27d5ee94fa7",
   "metadata": {},
   "outputs": [
    {
     "data": {
      "text/html": [
       "<div>\n",
       "<style scoped>\n",
       "    .dataframe tbody tr th:only-of-type {\n",
       "        vertical-align: middle;\n",
       "    }\n",
       "\n",
       "    .dataframe tbody tr th {\n",
       "        vertical-align: top;\n",
       "    }\n",
       "\n",
       "    .dataframe thead th {\n",
       "        text-align: right;\n",
       "    }\n",
       "</style>\n",
       "<table border=\"1\" class=\"dataframe\">\n",
       "  <thead>\n",
       "    <tr style=\"text-align: right;\">\n",
       "      <th></th>\n",
       "      <th>证券代码</th>\n",
       "      <th>统计截止日期</th>\n",
       "      <th>股东名称</th>\n",
       "      <th>持股排名</th>\n",
       "      <th>持股比例(%)</th>\n",
       "      <th>股份性质</th>\n",
       "      <th>股东性质</th>\n",
       "      <th>股东类型编码</th>\n",
       "      <th>股东类型</th>\n",
       "    </tr>\n",
       "  </thead>\n",
       "  <tbody>\n",
       "    <tr>\n",
       "      <th>0</th>\n",
       "      <td>1</td>\n",
       "      <td>2013-03-31</td>\n",
       "      <td>中国平安保险(集团)股份有限公司-集团本级-自有资金</td>\n",
       "      <td>1</td>\n",
       "      <td>42.16</td>\n",
       "      <td>未流通股,流通A股</td>\n",
       "      <td>其他</td>\n",
       "      <td>P2242</td>\n",
       "      <td>保险投资组合</td>\n",
       "    </tr>\n",
       "    <tr>\n",
       "      <th>1</th>\n",
       "      <td>1</td>\n",
       "      <td>2013-03-31</td>\n",
       "      <td>中国平安人寿保险股份有限公司-自有资金</td>\n",
       "      <td>2</td>\n",
       "      <td>7.41</td>\n",
       "      <td>未流通股</td>\n",
       "      <td>其他</td>\n",
       "      <td>P2242</td>\n",
       "      <td>保险投资组合</td>\n",
       "    </tr>\n",
       "    <tr>\n",
       "      <th>2</th>\n",
       "      <td>1</td>\n",
       "      <td>2013-03-31</td>\n",
       "      <td>中国平安人寿保险股份有限公司-传统-普通保险产品</td>\n",
       "      <td>3</td>\n",
       "      <td>2.75</td>\n",
       "      <td>流通A股</td>\n",
       "      <td>其他</td>\n",
       "      <td>P2242</td>\n",
       "      <td>保险投资组合</td>\n",
       "    </tr>\n",
       "    <tr>\n",
       "      <th>3</th>\n",
       "      <td>1</td>\n",
       "      <td>2013-03-31</td>\n",
       "      <td>深圳中电投资股份有限公司</td>\n",
       "      <td>4</td>\n",
       "      <td>1.81</td>\n",
       "      <td>流通A股</td>\n",
       "      <td>国有法人</td>\n",
       "      <td>P2211</td>\n",
       "      <td>风险投资公司</td>\n",
       "    </tr>\n",
       "    <tr>\n",
       "      <th>4</th>\n",
       "      <td>1</td>\n",
       "      <td>2013-03-31</td>\n",
       "      <td>东方证券股份有限公司客户信用交易担保证券账户</td>\n",
       "      <td>5</td>\n",
       "      <td>1.53</td>\n",
       "      <td>流通A股</td>\n",
       "      <td>其他</td>\n",
       "      <td>P2203</td>\n",
       "      <td>证券公司</td>\n",
       "    </tr>\n",
       "  </tbody>\n",
       "</table>\n",
       "</div>"
      ],
      "text/plain": [
       "   证券代码      统计截止日期                        股东名称  持股排名  持股比例(%)       股份性质  \\\n",
       "0     1  2013-03-31  中国平安保险(集团)股份有限公司-集团本级-自有资金     1    42.16  未流通股,流通A股   \n",
       "1     1  2013-03-31         中国平安人寿保险股份有限公司-自有资金     2     7.41       未流通股   \n",
       "2     1  2013-03-31    中国平安人寿保险股份有限公司-传统-普通保险产品     3     2.75       流通A股   \n",
       "3     1  2013-03-31                深圳中电投资股份有限公司     4     1.81       流通A股   \n",
       "4     1  2013-03-31      东方证券股份有限公司客户信用交易担保证券账户     5     1.53       流通A股   \n",
       "\n",
       "   股东性质 股东类型编码    股东类型  \n",
       "0    其他  P2242  保险投资组合  \n",
       "1    其他  P2242  保险投资组合  \n",
       "2    其他  P2242  保险投资组合  \n",
       "3  国有法人  P2211  风险投资公司  \n",
       "4    其他  P2203    证券公司  "
      ]
     },
     "execution_count": 24,
     "metadata": {},
     "output_type": "execute_result"
    }
   ],
   "source": [
    "df1.head()"
   ]
  },
  {
   "cell_type": "code",
   "execution_count": 25,
   "id": "e59cd09f-df97-459b-8256-14453c73c3b5",
   "metadata": {},
   "outputs": [],
   "source": [
    "def classify_PO(info):\n",
    "    if info == \"国有法人\" or info == \"国家\" or info == \"国有法人、境外法人\":\n",
    "        return '国有法人持股比例'\n",
    "    else:\n",
    "        return '其他持股比例'"
   ]
  },
  {
   "cell_type": "code",
   "execution_count": 26,
   "id": "c1682f1c-3191-4f44-9886-cfa16c31e9e5",
   "metadata": {},
   "outputs": [],
   "source": [
    "def classify_MY(index):\n",
    "    if index >= 1:\n",
    "        return '民营企业'\n",
    "    else:\n",
    "        return '非民营企业'"
   ]
  },
  {
   "cell_type": "code",
   "execution_count": 27,
   "id": "1a052141-9001-45a4-a8da-4e884f6f7b32",
   "metadata": {},
   "outputs": [
    {
     "data": {
      "text/plain": [
       "0            其他\n",
       "1            其他\n",
       "2            其他\n",
       "3          国有法人\n",
       "4            其他\n",
       "          ...  \n",
       "833034       其他\n",
       "833035    境内自然人\n",
       "833036       其他\n",
       "833037       其他\n",
       "833038    境内自然人\n",
       "Name: 股东性质, Length: 833039, dtype: object"
      ]
     },
     "execution_count": 27,
     "metadata": {},
     "output_type": "execute_result"
    }
   ],
   "source": [
    "df1['股东性质']\n"
   ]
  },
  {
   "cell_type": "code",
   "execution_count": 28,
   "id": "a257ec39-ef9d-4306-b991-58fb3720c4fc",
   "metadata": {},
   "outputs": [
    {
     "name": "stdout",
     "output_type": "stream",
     "text": [
      "是否民营股东      统计截止日期  证券代码  其他持股比例  国有法人持股比例       民营指数 是否民营企业\n",
      "0       2013-03-31     1   57.35      1.81  31.685083   民营企业\n",
      "1       2013-03-31     4   36.01      0.00        inf   民营企业\n",
      "2       2013-03-31     5   26.93      3.64   7.398352   民营企业\n",
      "3       2013-03-31     6   25.78     26.68   0.966267  非民营企业\n",
      "4       2013-03-31     7   43.38      0.00        inf   民营企业\n"
     ]
    }
   ],
   "source": [
    "\n",
    "df1['是否民营股东'] = df1['股东性质'].apply(classify_PO)\n",
    "df1 = df1.groupby(['统计截止日期', '证券代码', '是否民营股东'])['持股比例(%)'].sum().reset_index()\n",
    "df1 = df1.pivot_table(index=['统计截止日期', '证券代码'], columns='是否民营股东', values='持股比例(%)').reset_index()\n",
    "df1['其他持股比例'].fillna(0, inplace=True)\n",
    "df1['国有法人持股比例'].fillna(0, inplace=True)\n",
    "\n",
    "df1['民营指数'] = df1['其他持股比例'] / df1['国有法人持股比例']\n",
    "df1['民营指数'].fillna(100, inplace=True)\n",
    "\n",
    "df1['是否民营企业'] = df1['民营指数'].apply(classify_MY)\n",
    "print(df1.head())\n",
    "df1.to_excel('证券1-测试.xlsx', index=False)"
   ]
  },
  {
   "cell_type": "code",
   "execution_count": null,
   "id": "191b29c6-c50b-4058-8490-7a963325665d",
   "metadata": {},
   "outputs": [],
   "source": []
  },
  {
   "cell_type": "code",
   "execution_count": null,
   "id": "a2521315-e5e0-4be5-8551-5ebe6184d597",
   "metadata": {},
   "outputs": [],
   "source": []
  }
 ],
 "metadata": {
  "kernelspec": {
   "display_name": "Python 3 (ipykernel)",
   "language": "python",
   "name": "python3"
  },
  "language_info": {
   "codemirror_mode": {
    "name": "ipython",
    "version": 3
   },
   "file_extension": ".py",
   "mimetype": "text/x-python",
   "name": "python",
   "nbconvert_exporter": "python",
   "pygments_lexer": "ipython3",
   "version": "3.8.13"
  }
 },
 "nbformat": 4,
 "nbformat_minor": 5
}
