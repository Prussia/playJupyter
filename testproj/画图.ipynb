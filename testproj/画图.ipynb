{
 "cells": [
  {
   "cell_type": "code",
   "execution_count": 8,
   "id": "11420a5a-6dc0-4ae8-b92f-b0fd63141285",
   "metadata": {},
   "outputs": [],
   "source": [
    "import pandas as pd\n",
    "import matplotlib.pyplot as plt"
   ]
  },
  {
   "cell_type": "code",
   "execution_count": 9,
   "id": "a656861c-fb59-4cb3-8f0a-9a3ce2ec6c10",
   "metadata": {},
   "outputs": [],
   "source": [
    "# import data\n",
    "df = pd.read_csv('quarterly_returns.csv')"
   ]
  },
  {
   "cell_type": "code",
   "execution_count": 10,
   "id": "2f04e380-9183-4279-b167-c841aac58336",
   "metadata": {},
   "outputs": [
    {
     "data": {
      "text/plain": [
       "年份         int64\n",
       "分组         int64\n",
       "季度         int64\n",
       "加权回报率    float64\n",
       "月份        object\n",
       "dtype: object"
      ]
     },
     "execution_count": 10,
     "metadata": {},
     "output_type": "execute_result"
    }
   ],
   "source": [
    "df.dtypes"
   ]
  },
  {
   "cell_type": "code",
   "execution_count": 11,
   "id": "be82c564-eba6-47b5-862e-9192951913dd",
   "metadata": {},
   "outputs": [],
   "source": [
    "\n",
    "# 确保年份和季度的数据类型正确\n",
    "df['年份'] = df['年份'].astype(str)\n",
    "df['季度'] = df['季度'].astype(str)\n",
    "\n",
    "# 创建一个新列'Year_Quarter'来合并年份和季度，并确保按照正确的时间顺序排序\n",
    "df['Year_Quarter'] = df['年份'] + 'Q' + df['季度']\n",
    "\n",
    "# 计算每个分组的加权回报率累计和，并将累积回报率的初始值设为1\n",
    "df['Cumulative_Return'] = df.groupby('分组')['加权回报率'].cumsum() + 1\n",
    "\n",
    "# 对数据进行排序，确保图形的横轴按照年份和季度的顺序排列\n",
    "df.sort_values(by=['Year_Quarter'], inplace=True)\n",
    "\n"
   ]
  },
  {
   "cell_type": "code",
   "execution_count": 12,
   "id": "054bc7d3-c8ec-496d-b5ed-e46348ae0942",
   "metadata": {},
   "outputs": [
    {
     "data": {
      "text/plain": [
       "年份                    object\n",
       "分组                     int64\n",
       "季度                    object\n",
       "加权回报率                float64\n",
       "月份                    object\n",
       "Year_Quarter          object\n",
       "Cumulative_Return    float64\n",
       "dtype: object"
      ]
     },
     "execution_count": 12,
     "metadata": {},
     "output_type": "execute_result"
    }
   ],
   "source": [
    "df.dtypes"
   ]
  },
  {
   "cell_type": "code",
   "execution_count": null,
   "id": "57707e4a-63ee-4eb2-ab93-abe9aaf7b3e2",
   "metadata": {},
   "outputs": [],
   "source": [
    "df.to_csv('./final.csv', index=False)"
   ]
  },
  {
   "cell_type": "code",
   "execution_count": 13,
   "id": "9d66b917-8ba1-40c3-ab7b-3393547a3c61",
   "metadata": {},
   "outputs": [],
   "source": [
    "# 筛选出2014年第四季度及之后的数据\n",
    "df = df[df['Year_Quarter'] >= '2014Q4']"
   ]
  },
  {
   "cell_type": "code",
   "execution_count": 14,
   "id": "e56b605d-d39f-462d-beaf-9936ddec8252",
   "metadata": {},
   "outputs": [],
   "source": []
  },
  {
   "cell_type": "code",
   "execution_count": null,
   "id": "e43ec321-b14d-4972-b649-d91601968716",
   "metadata": {},
   "outputs": [],
   "source": [
    "# 获取分组列表\n",
    "groups = df['分组'].unique()"
   ]
  },
  {
   "cell_type": "code",
   "execution_count": null,
   "id": "99b0eac8-ed87-4f92-b629-fc42e0cc26a5",
   "metadata": {},
   "outputs": [],
   "source": [
    "\n",
    "# 绘制每个分组的累计回报率折线图\n",
    "plt.figure(figsize=(10, 6))\n",
    "\n",
    "for group in groups:\n",
    "    group_data = df[df['分组'] == group]\n",
    "    plt.plot(group_data['Year_Quarter'], group_data['Cumulative_Return'], label=group)"
   ]
  },
  {
   "cell_type": "code",
   "execution_count": null,
   "id": "1da5c12d-a774-489c-93f9-343a6a7dc696",
   "metadata": {},
   "outputs": [],
   "source": [
    "\n",
    "# 设置y轴起始值为1\n",
    "plt.ylim(bottom=1)\n",
    "\n",
    "# 添加图例\n",
    "plt.legend()\n",
    "\n",
    "# 添加标题和轴标签\n",
    "plt.title('Cumulative Weighted Returns by Group')\n",
    "plt.xlabel('Year and Quarter')\n",
    "plt.ylabel('Cumulative Weighted Return')\n",
    "\n",
    "# 旋转x轴标签，以便它们更容易阅读\n",
    "plt.xticks(rotation=45)\n",
    "\n",
    "# 显示图形\n",
    "plt.tight_layout()\n",
    "plt.show()"
   ]
  },
  {
   "cell_type": "code",
   "execution_count": null,
   "id": "d57544e0-6e66-4c98-9f38-59a19449f63b",
   "metadata": {},
   "outputs": [],
   "source": []
  }
 ],
 "metadata": {
  "kernelspec": {
   "display_name": "Python 3 (ipykernel)",
   "language": "python",
   "name": "python3"
  },
  "language_info": {
   "codemirror_mode": {
    "name": "ipython",
    "version": 3
   },
   "file_extension": ".py",
   "mimetype": "text/x-python",
   "name": "python",
   "nbconvert_exporter": "python",
   "pygments_lexer": "ipython3",
   "version": "3.8.13"
  }
 },
 "nbformat": 4,
 "nbformat_minor": 5
}
