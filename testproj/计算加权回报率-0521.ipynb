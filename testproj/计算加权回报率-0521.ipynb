{
 "cells": [
  {
   "cell_type": "markdown",
   "metadata": {},
   "source": [
    "### Definition"
   ]
  },
  {
   "cell_type": "code",
   "execution_count": null,
   "metadata": {},
   "outputs": [],
   "source": [
    "! pip install openpyxl"
   ]
  },
  {
   "cell_type": "code",
   "execution_count": 1,
   "metadata": {},
   "outputs": [],
   "source": [
    "import pandas as pd\n",
    "# import numpy as np\n",
    "# from datetime import date\n",
    "# from dateutil.relativedelta import relativedelta\n",
    "\n",
    "import warnings\n",
    "\n",
    "# 忽略所有警告\n",
    "warnings.filterwarnings('ignore')\n",
    "\n"
   ]
  },
  {
   "cell_type": "code",
   "execution_count": 2,
   "metadata": {},
   "outputs": [],
   "source": [
    "# import data\n",
    "df_shareholder_1 = pd.read_excel('十大股东文件2.xlsx')"
   ]
  },
  {
   "cell_type": "code",
   "execution_count": 3,
   "metadata": {},
   "outputs": [],
   "source": [
    "df_shareholder_1 = df_shareholder_1[df_shareholder_1['持股排名']==1]"
   ]
  },
  {
   "cell_type": "code",
   "execution_count": 4,
   "metadata": {},
   "outputs": [],
   "source": [
    "df1_1 = pd.read_excel('证券2.xlsx', engine='openpyxl')"
   ]
  },
  {
   "cell_type": "code",
   "execution_count": 5,
   "metadata": {},
   "outputs": [],
   "source": [
    "df1_stock_1 = pd.merge(df1_1, df_shareholder_1, on=['证券代码','统计截止日期'],how='inner')\n"
   ]
  },
  {
   "cell_type": "code",
   "execution_count": 6,
   "metadata": {},
   "outputs": [],
   "source": [
    "df1_stock_1.to_excel('证券2_final.xlsx', index=False)"
   ]
  },
  {
   "cell_type": "code",
   "execution_count": null,
   "metadata": {},
   "outputs": [],
   "source": []
  },
  {
   "cell_type": "code",
   "execution_count": null,
   "metadata": {},
   "outputs": [],
   "source": []
  },
  {
   "cell_type": "code",
   "execution_count": null,
   "metadata": {},
   "outputs": [],
   "source": []
  },
  {
   "cell_type": "code",
   "execution_count": null,
   "metadata": {},
   "outputs": [],
   "source": []
  },
  {
   "cell_type": "code",
   "execution_count": null,
   "metadata": {},
   "outputs": [],
   "source": []
  },
  {
   "cell_type": "code",
   "execution_count": null,
   "metadata": {},
   "outputs": [],
   "source": []
  },
  {
   "cell_type": "code",
   "execution_count": null,
   "metadata": {},
   "outputs": [],
   "source": []
  },
  {
   "cell_type": "code",
   "execution_count": null,
   "metadata": {},
   "outputs": [],
   "source": []
  },
  {
   "cell_type": "code",
   "execution_count": null,
   "metadata": {},
   "outputs": [],
   "source": [
    "# import data\n",
    "df1_1 = pd.read_excel('证券2.xlsx', engine='openpyxl')\n",
    "df1_2 = pd.read_excel('证券1.xlsx', engine='openpyxl')\n",
    "df1_3 = pd.concat([df1_1, df1_2], ignore_index=True)\n",
    "df1 = df1_3[df1_3['民营指数'] >= 1]\n"
   ]
  },
  {
   "cell_type": "code",
   "execution_count": null,
   "metadata": {},
   "outputs": [],
   "source": [
    "df2 = pd.read_excel('TRD_Mnth.xlsx', engine='openpyxl')\n",
    "#df3 = pd.read_excel('TRD_Mnth.xlsx', engine='openpyxl')"
   ]
  },
  {
   "cell_type": "code",
   "execution_count": null,
   "metadata": {},
   "outputs": [],
   "source": [
    "df3 = df2.copy()"
   ]
  },
  {
   "cell_type": "code",
   "execution_count": null,
   "metadata": {},
   "outputs": [],
   "source": [
    "df2.info()"
   ]
  },
  {
   "cell_type": "code",
   "execution_count": null,
   "metadata": {},
   "outputs": [],
   "source": [
    "df1.dtypes"
   ]
  },
  {
   "cell_type": "code",
   "execution_count": null,
   "metadata": {},
   "outputs": [],
   "source": [
    "df1['统计日期'] = pd.to_datetime(df1['统计截止日期'])\n",
    "df2['统计日期'] = pd.to_datetime(df2['交易月份'])\n",
    "df3['统计日期'] = pd.to_datetime(df3['交易月份'])"
   ]
  },
  {
   "cell_type": "markdown",
   "metadata": {},
   "source": [
    "### df1_sorted"
   ]
  },
  {
   "cell_type": "code",
   "execution_count": null,
   "metadata": {},
   "outputs": [],
   "source": [
    "df1_sorted = df1.sort_values(by=['统计日期', '其他持股比例'], ascending=[True, False])\n",
    "df1_sorted"
   ]
  },
  {
   "cell_type": "code",
   "execution_count": null,
   "metadata": {},
   "outputs": [],
   "source": [
    "# grouped_returns = pd.DataFrame()\n",
    "\n",
    "# # 9 三季报\n",
    "# # 3 一季报\n",
    "# # 6 半年报\n",
    "# periods = {\n",
    "#     9: (1, 4),\n",
    "#     3: (5, 8),\n",
    "#     6: (9, 12)\n",
    "# }\n"
   ]
  },
  {
   "cell_type": "code",
   "execution_count": null,
   "metadata": {},
   "outputs": [],
   "source": [
    "report_months = {\n",
    "    'third': 9,\n",
    "    'first': 3,\n",
    "    'half': 6\n",
    "}\n",
    "    "
   ]
  },
  {
   "cell_type": "code",
   "execution_count": null,
   "metadata": {},
   "outputs": [],
   "source": [
    "df1_sorted"
   ]
  },
  {
   "cell_type": "code",
   "execution_count": null,
   "metadata": {},
   "outputs": [],
   "source": [
    "# add a new column in the df1\n",
    "df1[\"分组\"] = \"\"\n",
    "\n"
   ]
  },
  {
   "cell_type": "code",
   "execution_count": null,
   "metadata": {},
   "outputs": [],
   "source": [
    "df1"
   ]
  },
  {
   "cell_type": "code",
   "execution_count": null,
   "metadata": {},
   "outputs": [],
   "source": [
    "df1_copy = df1.copy()\n",
    "len(df1_copy.index) \n",
    "df1_copy\n"
   ]
  },
  {
   "cell_type": "markdown",
   "metadata": {},
   "source": [
    "### Dataset df1_group\n",
    "对公司进行分组 按照季度进行调仓"
   ]
  },
  {
   "cell_type": "code",
   "execution_count": null,
   "metadata": {},
   "outputs": [],
   "source": [
    "\n",
    "df1_group = pd.DataFrame()\n",
    "\n",
    "df1_year_keymonth_size = 0\n",
    "\n",
    "# 对公司进行分组 按照季度进行调仓\n",
    "for year in df1['统计日期'].dt.year.unique():\n",
    "    print('****** loop *******')\n",
    "    print(year)\n",
    "    \n",
    "    \n",
    "    for key, key_month in report_months.items():\n",
    "        print('*****loop 季度*****')\n",
    "        print(key)\n",
    "        print(key_month)\n",
    "         \n",
    "        df1_year_keymonth = df1.loc[(df1['统计日期'].dt.year == year ) & (df1['统计日期'].dt.month == key_month)]\n",
    "        \n",
    "        df1_year_keymonth['分组'] = pd.qcut(df1_year_keymonth['其他持股比例'], 10, labels=False, duplicates='drop')\n",
    "        \n",
    "        df1_year_keymonth.info()\n",
    "        \n",
    "        df1_year_keymonth_size += len(df1_year_keymonth.index) \n",
    "        \n",
    "        df1_group = df1_group.append(df1_year_keymonth, ignore_index=True)\n",
    "        \n",
    "        \n",
    "df1_group"
   ]
  },
  {
   "cell_type": "code",
   "execution_count": null,
   "metadata": {},
   "outputs": [],
   "source": [
    "df1_year_keymonth_size"
   ]
  },
  {
   "cell_type": "code",
   "execution_count": null,
   "metadata": {},
   "outputs": [],
   "source": [
    "df1_group\n",
    "\n",
    "df1_group.to_excel('加权权重分组.xlsx',index=False)\n",
    "\n"
   ]
  },
  {
   "cell_type": "markdown",
   "metadata": {},
   "source": [
    "### Dataset df2_market_value\n",
    "\n",
    "进行加权平均计算月度回报率（分组过后+加权之后）\n",
    "\n",
    "匹配时间节点上的公司市值\n",
    "\n",
    "匹配相应时间段的月度回报率数据\n"
   ]
  },
  {
   "cell_type": "code",
   "execution_count": null,
   "metadata": {},
   "outputs": [],
   "source": [
    "# 进行加权平均计算月度回报率（分组过后+加权之后）\n",
    "# 匹配时间节点上的公司市值\n",
    "# 匹配相应时间段的月度回报率数据\n",
    "\n",
    "df2_market_value = pd.DataFrame()\n",
    "# loop years\n",
    "for year in df2['统计日期'].dt.year.unique():\n",
    "    print('*************')\n",
    "    print(year)\n",
    "    current_year_data = df2[df2['统计日期'].dt.year == year] # type: ignore\n",
    "    print(current_year_data.head())\n",
    "    \n",
    "    # loop 季报 调仓时候的市值 \n",
    "    for key, key_month in report_months.items():\n",
    "        print('**********')\n",
    "        print(key)\n",
    "        print(key_month*4/3)\n",
    "        current_year_df_monthly = current_year_data[current_year_data['统计日期'].dt.month == key_month*4/3]\n",
    "        #print(current_year_df_monthly.info())\n",
    "        #计算权重\n",
    "    \n",
    "        df2_market_value = df2_market_value.append(current_year_df_monthly, ignore_index=True)\n",
    "        "
   ]
  },
  {
   "cell_type": "code",
   "execution_count": null,
   "metadata": {},
   "outputs": [],
   "source": [
    "df2_market_value.reset_index()\n",
    "df1_group.reset_index()\n"
   ]
  },
  {
   "cell_type": "code",
   "execution_count": null,
   "metadata": {},
   "outputs": [],
   "source": [
    "df2_market_value\n",
    "\n",
    "df2_market_value.to_excel('个股市值统计.xlsx',index=False)\n",
    "df2_market_value"
   ]
  },
  {
   "cell_type": "code",
   "execution_count": null,
   "metadata": {},
   "outputs": [],
   "source": [
    "df2_market_value"
   ]
  },
  {
   "cell_type": "code",
   "execution_count": null,
   "metadata": {},
   "outputs": [],
   "source": [
    "\n",
    "# 假设你的DataFrame叫df，日期列叫'最新统计日期'\n",
    "# 我们假设年份和日不变，只是月份改变了\n",
    "df2_market_value['new_month'] = (df2_market_value['统计日期'].dt.month *3/4).astype(int)\n",
    "df2_market_value['new_year'] = df2_market_value['统计日期'].dt.year\n",
    "df2_market_value['new_day'] = 30  # 假设每月的第一天\n",
    "df2_market_value\n",
    "# 构建新的日期字符串\n",
    "#df2_market_value['新统计日期'] = pd.to_datetime(df2_market_value[['new_year', 'new_month', 'new_day']])\n",
    "\n"
   ]
  },
  {
   "cell_type": "code",
   "execution_count": null,
   "metadata": {},
   "outputs": [],
   "source": [
    "\n",
    "\n",
    "# 假设 new_year 和 new_month 已经定义\n",
    "df2_market_value['最新统计日期'] = pd.to_datetime(df2_market_value['new_year'].astype(str) + '-' + df2_market_value['new_month'].astype(str) + '-01')\n",
    "df2_market_value['最新统计日期'] = df2_market_value['最新统计日期'] + pd.offsets.MonthEnd()"
   ]
  },
  {
   "cell_type": "code",
   "execution_count": null,
   "metadata": {},
   "outputs": [],
   "source": [
    "# df2_market_value['新统计日期'] = pd.to_datetime(df2_market_value[['new_year', 'new_month', 'new_day']])\n",
    "\n",
    "\n",
    "# df2_market_value['最新统计日期'] = pd.to_datetime({\n",
    "#     'year': df2_market_value['new_year'],\n",
    "#     'month': df2_market_value['new_month'],\n",
    "#     'day': df2_market_value['new_day']\n",
    "# })"
   ]
  },
  {
   "cell_type": "code",
   "execution_count": null,
   "metadata": {},
   "outputs": [],
   "source": [
    "df2_market_value.drop(columns=['new_year', 'new_month', 'new_day'], inplace=True)\n",
    "df2_market_value\n"
   ]
  },
  {
   "cell_type": "code",
   "execution_count": null,
   "metadata": {},
   "outputs": [],
   "source": [
    "df1_group['最新统计日期'] = df1_group['统计日期']\n",
    "\n",
    "df1_group['证券代码'] = df1_group['证券代码'].astype(str)\n",
    "df1_group['最新统计日期'] = pd.to_datetime(df1_group['最新统计日期'])\n",
    "\n",
    "df2_market_value['证券代码'] = df2_market_value['证券代码'].astype(str)\n",
    "df2_market_value['最新统计日期'] = pd.to_datetime(df2_market_value['最新统计日期'])"
   ]
  },
  {
   "cell_type": "code",
   "execution_count": null,
   "metadata": {},
   "outputs": [],
   "source": [
    "df2_market_value.info()\n"
   ]
  },
  {
   "cell_type": "code",
   "execution_count": null,
   "metadata": {},
   "outputs": [],
   "source": [
    "df1_group.head()"
   ]
  },
  {
   "cell_type": "markdown",
   "metadata": {},
   "source": [
    "### df1_merged_group\n",
    "\n",
    "merge df1_group, df2_market_value"
   ]
  },
  {
   "cell_type": "code",
   "execution_count": null,
   "metadata": {},
   "outputs": [],
   "source": [
    "\n",
    "df1_merged_group = pd.merge(df1_group, df2_market_value, on=['证券代码','最新统计日期'],how='inner')\n",
    "df1_merged_group\n"
   ]
  },
  {
   "cell_type": "code",
   "execution_count": null,
   "metadata": {},
   "outputs": [],
   "source": [
    "# df1_merged_group_0 = df1_merged_group[df1_merged_group['分组'] == 0]\n",
    "# df1_merged_group_0.head()\n"
   ]
  },
  {
   "cell_type": "code",
   "execution_count": null,
   "metadata": {},
   "outputs": [],
   "source": [
    "\n",
    "# df1_merged_group_0_sum = df1_merged_group_0.groupby(by=[\"最新统计日期\"]).sum()\n",
    "# df1_merged_group_0_sum"
   ]
  },
  {
   "cell_type": "markdown",
   "metadata": {},
   "source": [
    "### 个股 市值权重 in group and date\n",
    "\n",
    "根据df1 group， 进行个股权重计算"
   ]
  },
  {
   "cell_type": "code",
   "execution_count": null,
   "metadata": {},
   "outputs": [],
   "source": [
    "# # 取个股 市值 by date / 组内市值总和\n",
    "# # save in a new dataframe\n",
    "# # ['证券代码'] ['个股市值'] ['个股组内权重']\n",
    "def getDF_stock_weight_group(df1_merged_group, df1_merged_group_sum):\n",
    "    df_stock_weight_group = pd.DataFrame(columns=['证券代码', '个股市值', '个股组内权重','最新统计日期'] )\n",
    "    \n",
    "    for index, row in df1_merged_group.iterrows():\n",
    "        # print(row['证券代码'])\n",
    "        # print(row['个股市值'])\n",
    "        # print(row['最新统计日期'])\n",
    "        # print('group market value')\n",
    "        group_row = df1_merged_group_sum[df1_merged_group_sum.index == row['最新统计日期']]\n",
    "        # print(group_row['个股市值'])\n",
    "        \n",
    "        stock_weight = row['个股市值'] / group_row['个股市值'].item()   \n",
    "        \n",
    "        # print('stock_weight=======')\n",
    "        # print(stock_weight)\n",
    "        \n",
    "        data = {'证券代码': row['证券代码'], '个股市值': row['个股市值'], '个股组内权重':stock_weight, '最新统计日期':row['最新统计日期'] }\n",
    "        #print(data)\n",
    "        #print(df_tmp.head())\n",
    "    \n",
    "        df_stock_weight_group = df_stock_weight_group.append(data, ignore_index=True)\n",
    "    \n",
    "    return df_stock_weight_group\n"
   ]
  },
  {
   "cell_type": "code",
   "execution_count": null,
   "metadata": {},
   "outputs": [],
   "source": [
    "\n",
    "def getDF_stock_weight_group_by_number(index, df1_merged_group):\n",
    "    \n",
    "    df1_merged_group = df1_merged_group[df1_merged_group['分组'] == index]\n",
    "    df1_merged_group_sum = df1_merged_group.groupby(by=[\"最新统计日期\"]).sum()\n",
    "    df_stock_weight_group = getDF_stock_weight_group(df1_merged_group, df1_merged_group_sum)   \n",
    "    \n",
    "    return df_stock_weight_group"
   ]
  },
  {
   "cell_type": "code",
   "execution_count": null,
   "metadata": {},
   "outputs": [],
   "source": [
    "df_stock_weight_group0 = getDF_stock_weight_group_by_number(0, df1_merged_group)\n",
    "df_stock_weight_group0"
   ]
  },
  {
   "cell_type": "code",
   "execution_count": null,
   "metadata": {},
   "outputs": [],
   "source": [
    "df_stock_weight_group1 = getDF_stock_weight_group_by_number(1, df1_merged_group)\n",
    "df_stock_weight_group1"
   ]
  },
  {
   "cell_type": "code",
   "execution_count": null,
   "metadata": {},
   "outputs": [],
   "source": [
    "df_stock_weight_group2 = getDF_stock_weight_group_by_number(2, df1_merged_group)\n",
    "df_stock_weight_group2"
   ]
  },
  {
   "cell_type": "code",
   "execution_count": null,
   "metadata": {},
   "outputs": [],
   "source": [
    "df_stock_weight_group3 = getDF_stock_weight_group_by_number(3, df1_merged_group)\n",
    "df_stock_weight_group3"
   ]
  },
  {
   "cell_type": "code",
   "execution_count": null,
   "metadata": {},
   "outputs": [],
   "source": [
    "df_stock_weight_group4 = getDF_stock_weight_group_by_number(4, df1_merged_group)\n",
    "df_stock_weight_group4"
   ]
  },
  {
   "cell_type": "code",
   "execution_count": null,
   "metadata": {},
   "outputs": [],
   "source": [
    "#TODO 5\n",
    "df_stock_weight_group5 = getDF_stock_weight_group_by_number(5, df1_merged_group)\n",
    "df_stock_weight_group5"
   ]
  },
  {
   "cell_type": "code",
   "execution_count": null,
   "metadata": {},
   "outputs": [],
   "source": [
    "# 6\n",
    "df_stock_weight_group6 = getDF_stock_weight_group_by_number(6, df1_merged_group)\n",
    "df_stock_weight_group6"
   ]
  },
  {
   "cell_type": "code",
   "execution_count": null,
   "metadata": {},
   "outputs": [],
   "source": [
    "# 7 \n",
    "df_stock_weight_group7 = getDF_stock_weight_group_by_number(7, df1_merged_group)\n",
    "df_stock_weight_group7"
   ]
  },
  {
   "cell_type": "code",
   "execution_count": null,
   "metadata": {},
   "outputs": [],
   "source": [
    "# 8\n",
    "df_stock_weight_group8 = getDF_stock_weight_group_by_number(8, df1_merged_group)\n",
    "df_stock_weight_group8"
   ]
  },
  {
   "cell_type": "code",
   "execution_count": null,
   "metadata": {},
   "outputs": [],
   "source": [
    "# 9 \n",
    "df_stock_weight_group9 = getDF_stock_weight_group_by_number(9, df1_merged_group)\n",
    "df_stock_weight_group9"
   ]
  },
  {
   "cell_type": "markdown",
   "metadata": {},
   "source": [
    "# Dataset 加权月度回报率\n",
    "\n",
    "### Description\n",
    "trd_month as datasource\n",
    "\n",
    "每个 个股 交易时间\n",
    "\n",
    "每个个股 在每个季度的权重 in df_stock_weight_groupN\n",
    "\n",
    "个股组内权重 at timestamp （xxxx-03, xxxx-06, xxxx-09）\n",
    "\n",
    "个股组内权重(4个月) * 个股月度回报率 （最新统计日期）\n",
    "\n",
    "df_stock_weight_groupN\n",
    "\n",
    "#### a new dataframe - seucrity code, datetime (df3_DATE), 统计日期-4 (alignment), weighted stock monthly return\n",
    "\n",
    "#### weighted stock monthly return = weight (3 kinds) * monthly return (12 months)\n",
    "\n",
    "monthly return (12 months) = get from df3 by df3[证券代码] and df3[统计日期-4]\n",
    "\n",
    "weight (3 kinds) = df3[统计日期-4] --> \n",
    "\n",
    "{\n",
    "\n",
    "xxxx-03 : (1-4)  2014-03 --> \n",
    "\n",
    "xxxx-06 : (5-8)  2014-06 --> \n",
    "\n",
    "xxxx-09 : (9-12) 2014-10 --> \n",
    "\n",
    "}\n",
    "\n",
    "\n"
   ]
  },
  {
   "cell_type": "markdown",
   "metadata": {},
   "source": [
    "### fake code\n",
    "\n",
    "\n",
    "combine df_stock_weight_group0 and add a new column for group\n",
    "\n",
    "loop df3 \n",
    "\n",
    "weighted stock monthly return = weight (3 kinds) * monthly return (12 months) --->\n",
    "weight (3 kinds) --->  df_stock_weight_groupN ---> df_stock_weight_group0 + 1 + 2 + 3 +4\n",
    "\n",
    "df_stock_weight_group0[最新统计日期] <-||->  df3[统计日期-4]\n",
    "df_stock_weight_group0[证券代码] <--> df3[证券代码]\n",
    "\n",
    "function (Date){\n",
    "\n",
    "\n",
    "}\n",
    "\n",
    "\n",
    "array [证券代码, 统计日期-4, DATE, 个股月回报率, weighted stock monthly return, 分组]\n"
   ]
  },
  {
   "cell_type": "markdown",
   "metadata": {},
   "source": [
    "##### combine df_stock_weight_group0 and add a new column for group\n",
    "df_stock_weight_groupN ---> df_stock_weight_group0 + 1 + 2 + 3 +4"
   ]
  },
  {
   "cell_type": "code",
   "execution_count": null,
   "metadata": {},
   "outputs": [],
   "source": [
    "df_stock_weight_group0['group'] = 0\n",
    "df_stock_weight_group1['group'] = 1\n",
    "df_stock_weight_group2['group'] = 2\n",
    "df_stock_weight_group3['group'] = 3\n",
    "df_stock_weight_group4['group'] = 4\n",
    "#TODO\n",
    "df_stock_weight_group5['group'] = 5\n",
    "df_stock_weight_group6['group'] = 6\n",
    "df_stock_weight_group7['group'] = 7\n",
    "df_stock_weight_group8['group'] = 8\n",
    "df_stock_weight_group9['group'] = 9"
   ]
  },
  {
   "cell_type": "code",
   "execution_count": null,
   "metadata": {},
   "outputs": [],
   "source": [
    "df_stock_weight_group0\n",
    "df_stock_weight_group1"
   ]
  },
  {
   "cell_type": "code",
   "execution_count": null,
   "metadata": {},
   "outputs": [],
   "source": [
    "df_stock_weight_group2\n",
    "df_stock_weight_group3"
   ]
  },
  {
   "cell_type": "code",
   "execution_count": null,
   "metadata": {},
   "outputs": [],
   "source": [
    "df_stock_weight_group4"
   ]
  },
  {
   "cell_type": "code",
   "execution_count": null,
   "metadata": {},
   "outputs": [],
   "source": [
    "df_stock_weight_group5"
   ]
  },
  {
   "cell_type": "code",
   "execution_count": null,
   "metadata": {},
   "outputs": [],
   "source": [
    "df_stock_weight_group6"
   ]
  },
  {
   "cell_type": "code",
   "execution_count": null,
   "metadata": {},
   "outputs": [],
   "source": [
    "df_stock_weight_group = pd.concat([df_stock_weight_group9,df_stock_weight_group8,df_stock_weight_group7,df_stock_weight_group6,df_stock_weight_group5,df_stock_weight_group4, df_stock_weight_group3, df_stock_weight_group2, df_stock_weight_group1, df_stock_weight_group0], ignore_index=True)\n",
    "\n",
    "df_stock_weight_group"
   ]
  },
  {
   "cell_type": "markdown",
   "metadata": {},
   "source": [
    "##### subset df3\n",
    "证券代码\tDATE\t统计日期-4\t个股月回报率\n"
   ]
  },
  {
   "cell_type": "code",
   "execution_count": null,
   "metadata": {},
   "outputs": [],
   "source": [
    "df3['DATE_str'] = df3['统计日期'].dt.date\n",
    "df3['统计日期-4'] = df3['DATE_str'] - relativedelta(months = 4)\n",
    "df3.head()"
   ]
  },
  {
   "cell_type": "code",
   "execution_count": null,
   "metadata": {},
   "outputs": [],
   "source": [
    "df3_sub = df3[['证券代码','DATE_str', '统计日期-4','统计日期','个股月回报率']]\n",
    "df3_sub"
   ]
  },
  {
   "cell_type": "markdown",
   "metadata": {},
   "source": [
    "##### add a new column to map report date in df_stock_weight_group\n",
    "{\n",
    "\n",
    "xxxx-03 : (1-4) 2014-03 -->\n",
    "\n",
    "xxxx-06 : (5-8) 2014-06 -->\n",
    "\n",
    "xxxx-09 : (9-12) 2014-10 -->\n",
    "\n",
    "}"
   ]
  },
  {
   "cell_type": "code",
   "execution_count": null,
   "metadata": {},
   "outputs": [],
   "source": [
    "\n",
    "df3_sub['统计日期-4'] = df3_sub['统计日期-4'].astype('str')\n",
    "df3_sub['统计日期-4'] = pd.to_datetime(df3_sub['统计日期-4'])\n",
    "\n",
    "df3_sub.info()"
   ]
  },
  {
   "cell_type": "markdown",
   "metadata": {},
   "source": [
    "##### update trading date\n",
    "{\n",
    "\n",
    "xxxx-03 : (1-4) 2014-03 -->\n",
    "\n",
    "xxxx-06 : (5-8) 2014-06 -->\n",
    "\n",
    "xxxx-09 : (9-12) 2014-10 -->\n",
    "\n",
    "}"
   ]
  },
  {
   "cell_type": "code",
   "execution_count": null,
   "metadata": {},
   "outputs": [],
   "source": [
    "def getTradingMonth(row):\n",
    "\n",
    "    if(4 >= row['new_month'] >= 1):\n",
    "        newMonth = 3\n",
    "    elif(8>= row['new_month'] >=5 ):\n",
    "        newMonth = 6\n",
    "    else:\n",
    "        newMonth = 9\n",
    "    return newMonth\n"
   ]
  },
  {
   "cell_type": "code",
   "execution_count": null,
   "metadata": {},
   "outputs": [],
   "source": [
    "\n",
    "df3_sub['new_month'] = (df3_sub['统计日期-4'].dt.month).astype(int)\n",
    "df3_sub['new_trading_month'] = df3_sub.apply(getTradingMonth, axis=1)\n",
    "df3_sub['new_year'] = df3_sub['统计日期-4'].dt.year\n",
    "## end day\n",
    "df3_sub['new_day'] = df3_sub['统计日期-4'].dt.day  \n",
    "\n",
    "\n",
    "\n",
    "df3_sub['trading_date'] = pd.to_datetime({\n",
    "    'year': df3_sub['new_year'],\n",
    "    'month': df3_sub['new_trading_month'],\n",
    "    'day': df3_sub['new_day']\n",
    "})\n"
   ]
  },
  {
   "cell_type": "code",
   "execution_count": null,
   "metadata": {},
   "outputs": [],
   "source": [
    "df3_sub_trading = df3_sub[['证券代码','DATE_str', '统计日期-4','统计日期','个股月回报率', 'trading_date']]\n",
    "df3_sub_trading['最新统计日期'] = df3_sub_trading['trading_date'] + pd.offsets.MonthEnd()\n",
    "\n",
    "df3_sub_trading"
   ]
  },
  {
   "cell_type": "markdown",
   "metadata": {},
   "source": [
    "##### Append group \n",
    "\n",
    "##### merge df3_sub and df_stock_weight_group\n",
    "\n",
    "column [证券代码, 统计日期-4, DATE, 个股月回报率, 分组]\n",
    "\n",
    "['证券代码','DATE_str', '统计日期-4','统计日期','个股月回报率', 'trading_date']"
   ]
  },
  {
   "cell_type": "code",
   "execution_count": null,
   "metadata": {},
   "outputs": [],
   "source": [
    "df_stock_weight_group.info()\n"
   ]
  },
  {
   "cell_type": "code",
   "execution_count": null,
   "metadata": {},
   "outputs": [],
   "source": [
    "df3_sub_trading['证券代码'] = df3_sub_trading['证券代码'].astype(str)\n",
    "\n",
    "df3_sub_trading['最新统计日期'] = pd.to_datetime(df3_sub_trading['最新统计日期'])\n",
    "df_stock_weight_group['最新统计日期'] = pd.to_datetime(df_stock_weight_group['最新统计日期'])\n"
   ]
  },
  {
   "cell_type": "code",
   "execution_count": null,
   "metadata": {},
   "outputs": [],
   "source": [
    "df3_sub_trading.head()\n"
   ]
  },
  {
   "cell_type": "code",
   "execution_count": null,
   "metadata": {},
   "outputs": [],
   "source": [
    "df_stock_weight_group.head()"
   ]
  },
  {
   "cell_type": "code",
   "execution_count": null,
   "metadata": {},
   "outputs": [],
   "source": [
    "df3_sub_trading_group = pd.merge(df3_sub_trading, df_stock_weight_group, on=['证券代码','最新统计日期'],how='left')\n",
    "\n",
    "df3_sub_trading_group"
   ]
  },
  {
   "cell_type": "code",
   "execution_count": null,
   "metadata": {},
   "outputs": [],
   "source": [
    "\n"
   ]
  },
  {
   "cell_type": "code",
   "execution_count": null,
   "metadata": {},
   "outputs": [],
   "source": [
    "df3_sub_trading_group  = df3_sub_trading_group[['证券代码','统计日期-4','统计日期','trading_date','个股月回报率','个股组内权重','group']]\n",
    "\n",
    "df3_sub_trading_group"
   ]
  },
  {
   "cell_type": "markdown",
   "metadata": {},
   "source": [
    "##### weighted stock monthly return = weight (3 kinds) * monthly return (12 months)\n",
    "\n",
    "array [证券代码, 统计日期-4, DATE, 个股月回报率, weighted stock monthly return, 分组]"
   ]
  },
  {
   "cell_type": "code",
   "execution_count": null,
   "metadata": {},
   "outputs": [],
   "source": [
    "# df3_sub_trading_group.dropna()\n",
    "\n",
    "df3_sub_trading_group['个股加权回报率'] = df3_sub_trading_group['个股月回报率']* df3_sub_trading_group['个股组内权重']\n",
    "df3_sub_trading_group['组间加权回报率'] = df3_sub_trading_group['个股加权回报率']\n",
    "\n",
    "df3_sub_trading_group_final = df3_sub_trading_group[df3_sub_trading_group['group'].notna()]\n",
    "\n",
    "df3_sub_trading_group_final"
   ]
  },
  {
   "cell_type": "code",
   "execution_count": null,
   "metadata": {},
   "outputs": [],
   "source": [
    "#df3_sub_trading_group_final.to_excel('df3_sub_trading_group_final.xlsx', index=False)\n"
   ]
  },
  {
   "cell_type": "markdown",
   "metadata": {},
   "source": [
    "### 组间加权月度回报率\n",
    "##### grouping weighted monthly return\n",
    "\n",
    "according to the group, split the df\n",
    "\n",
    "and group by DATE\n"
   ]
  },
  {
   "cell_type": "code",
   "execution_count": null,
   "metadata": {
    "scrolled": true
   },
   "outputs": [],
   "source": [
    "df3_sub_trading_group_final_0 = df3_sub_trading_group_final[df3_sub_trading_group_final['group'] == 0]\n",
    "df3_sub_trading_group_final_0.info()\n",
    "df3_sub_trading_group_final_0"
   ]
  },
  {
   "cell_type": "code",
   "execution_count": null,
   "metadata": {},
   "outputs": [],
   "source": [
    "df3_sub_trading_group_final_0_group = df3_sub_trading_group_final_0.groupby(by=[\"统计日期\"]).sum()\n",
    "df3_sub_trading_group_final_0_group = df3_sub_trading_group_final_0_group[['组间加权回报率','group']]\n",
    "df3_sub_trading_group_final_0_group"
   ]
  },
  {
   "cell_type": "code",
   "execution_count": null,
   "metadata": {},
   "outputs": [],
   "source": [
    "df3_sub_trading_group_final_1 = df3_sub_trading_group_final[df3_sub_trading_group_final['group'] == 1]\n",
    "df3_sub_trading_group_final_1.head()"
   ]
  },
  {
   "cell_type": "code",
   "execution_count": null,
   "metadata": {},
   "outputs": [],
   "source": [
    "df3_sub_trading_group_final_1_group = df3_sub_trading_group_final_1.groupby(by=[\"统计日期\"]).sum()\n",
    "\n",
    "df3_sub_trading_group_final_1_group = df3_sub_trading_group_final_1_group[['组间加权回报率','group']]\n",
    "\n",
    "df3_sub_trading_group_final_1_group['group'] = 1\n",
    "df3_sub_trading_group_final_1_group"
   ]
  },
  {
   "cell_type": "code",
   "execution_count": null,
   "metadata": {},
   "outputs": [],
   "source": [
    "df3_sub_trading_group_final_2 = df3_sub_trading_group_final[df3_sub_trading_group_final['group'] == 2]\n",
    "df3_sub_trading_group_final_2.info()"
   ]
  },
  {
   "cell_type": "code",
   "execution_count": null,
   "metadata": {},
   "outputs": [],
   "source": [
    "df3_sub_trading_group_final_2_group = df3_sub_trading_group_final_2.groupby(by=[\"统计日期\"]).sum()\n",
    "\n",
    "df3_sub_trading_group_final_2_group = df3_sub_trading_group_final_2_group[['组间加权回报率','group']]\n",
    "\n",
    "df3_sub_trading_group_final_2_group['group'] = 2\n",
    "df3_sub_trading_group_final_2_group"
   ]
  },
  {
   "cell_type": "code",
   "execution_count": null,
   "metadata": {},
   "outputs": [],
   "source": [
    "df3_sub_trading_group_final_3 = df3_sub_trading_group_final[df3_sub_trading_group_final['group'] == 3]\n",
    "df3_sub_trading_group_final_3.info()"
   ]
  },
  {
   "cell_type": "code",
   "execution_count": null,
   "metadata": {},
   "outputs": [],
   "source": [
    "df3_sub_trading_group_final_3_group = df3_sub_trading_group_final_3.groupby(by=[\"统计日期\"]).sum()\n",
    "\n",
    "df3_sub_trading_group_final_3_group = df3_sub_trading_group_final_3_group[['组间加权回报率','group']]\n",
    "\n",
    "df3_sub_trading_group_final_3_group['group'] = 3\n",
    "\n",
    "df3_sub_trading_group_final_3_group"
   ]
  },
  {
   "cell_type": "code",
   "execution_count": null,
   "metadata": {},
   "outputs": [],
   "source": [
    "df3_sub_trading_group_final_4 = df3_sub_trading_group_final[df3_sub_trading_group_final['group'] == 4]\n",
    "df3_sub_trading_group_final_4.info()"
   ]
  },
  {
   "cell_type": "code",
   "execution_count": null,
   "metadata": {},
   "outputs": [],
   "source": [
    "df3_sub_trading_group_final_4_group = df3_sub_trading_group_final_4.groupby(by=[\"统计日期\"]).sum()\n",
    "\n",
    "df3_sub_trading_group_final_4_group = df3_sub_trading_group_final_4_group[['组间加权回报率','group']]\n",
    "\n",
    "df3_sub_trading_group_final_4_group['group'] = 4\n",
    "df3_sub_trading_group_final_4_group\n"
   ]
  },
  {
   "cell_type": "code",
   "execution_count": null,
   "metadata": {},
   "outputs": [],
   "source": [
    "#TODO 5\n",
    "df3_sub_trading_group_final_5 = df3_sub_trading_group_final[df3_sub_trading_group_final['group'] == 5]\n",
    "df3_sub_trading_group_final_5.info()"
   ]
  },
  {
   "cell_type": "code",
   "execution_count": null,
   "metadata": {},
   "outputs": [],
   "source": [
    "df3_sub_trading_group_final_5_group = df3_sub_trading_group_final_5.groupby(by=[\"统计日期\"]).sum()\n",
    "\n",
    "df3_sub_trading_group_final_5_group = df3_sub_trading_group_final_5_group[['组间加权回报率','group']]\n",
    "\n",
    "df3_sub_trading_group_final_5_group['group'] = 5\n",
    "df3_sub_trading_group_final_5_group"
   ]
  },
  {
   "cell_type": "code",
   "execution_count": null,
   "metadata": {},
   "outputs": [],
   "source": [
    "#TODO 6\n",
    "df3_sub_trading_group_final_6 = df3_sub_trading_group_final[df3_sub_trading_group_final['group'] == 6]\n",
    "df3_sub_trading_group_final_6.info()"
   ]
  },
  {
   "cell_type": "code",
   "execution_count": null,
   "metadata": {},
   "outputs": [],
   "source": [
    "df3_sub_trading_group_final_6_group = df3_sub_trading_group_final_6.groupby(by=[\"统计日期\"]).sum()\n",
    "\n",
    "df3_sub_trading_group_final_6_group = df3_sub_trading_group_final_6_group[['组间加权回报率','group']]\n",
    "\n",
    "df3_sub_trading_group_final_6_group['group'] = 6\n",
    "df3_sub_trading_group_final_6_group"
   ]
  },
  {
   "cell_type": "code",
   "execution_count": null,
   "metadata": {},
   "outputs": [],
   "source": [
    "#TODO 7\n",
    "df3_sub_trading_group_final_7 = df3_sub_trading_group_final[df3_sub_trading_group_final['group'] == 7]\n",
    "df3_sub_trading_group_final_7.info()"
   ]
  },
  {
   "cell_type": "code",
   "execution_count": null,
   "metadata": {},
   "outputs": [],
   "source": [
    "df3_sub_trading_group_final_7_group = df3_sub_trading_group_final_7.groupby(by=[\"统计日期\"]).sum()\n",
    "\n",
    "df3_sub_trading_group_final_7_group = df3_sub_trading_group_final_7_group[['组间加权回报率','group']]\n",
    "\n",
    "df3_sub_trading_group_final_7_group['group'] = 7\n",
    "df3_sub_trading_group_final_7_group"
   ]
  },
  {
   "cell_type": "code",
   "execution_count": null,
   "metadata": {},
   "outputs": [],
   "source": [
    "#TODO 8\n",
    "df3_sub_trading_group_final_8 = df3_sub_trading_group_final[df3_sub_trading_group_final['group'] == 8]\n",
    "df3_sub_trading_group_final_8.info()"
   ]
  },
  {
   "cell_type": "code",
   "execution_count": null,
   "metadata": {},
   "outputs": [],
   "source": [
    "df3_sub_trading_group_final_8_group = df3_sub_trading_group_final_8.groupby(by=[\"统计日期\"]).sum()\n",
    "\n",
    "df3_sub_trading_group_final_8_group = df3_sub_trading_group_final_8_group[['组间加权回报率','group']]\n",
    "\n",
    "df3_sub_trading_group_final_8_group['group'] = 8\n",
    "df3_sub_trading_group_final_8_group"
   ]
  },
  {
   "cell_type": "code",
   "execution_count": null,
   "metadata": {},
   "outputs": [],
   "source": [
    "#TODO 9\n",
    "df3_sub_trading_group_final_9 = df3_sub_trading_group_final[df3_sub_trading_group_final['group'] == 9]\n",
    "df3_sub_trading_group_final_9.info()"
   ]
  },
  {
   "cell_type": "code",
   "execution_count": null,
   "metadata": {},
   "outputs": [],
   "source": [
    "df3_sub_trading_group_final_9_group = df3_sub_trading_group_final_9.groupby(by=[\"统计日期\"]).sum()\n",
    "\n",
    "df3_sub_trading_group_final_9_group = df3_sub_trading_group_final_9_group[['组间加权回报率','group']]\n",
    "\n",
    "df3_sub_trading_group_final_9_group['group'] = 9\n",
    "df3_sub_trading_group_final_9_group"
   ]
  },
  {
   "cell_type": "code",
   "execution_count": null,
   "metadata": {},
   "outputs": [],
   "source": [
    "df3_sub_trading_group_final_0_group = df3_sub_trading_group_final_0_group.reset_index()\n",
    "df3_sub_trading_group_final_1_group = df3_sub_trading_group_final_1_group.reset_index()\n",
    "df3_sub_trading_group_final_2_group = df3_sub_trading_group_final_2_group.reset_index()\n",
    "df3_sub_trading_group_final_3_group = df3_sub_trading_group_final_3_group.reset_index()\n",
    "df3_sub_trading_group_final_4_group = df3_sub_trading_group_final_4_group.reset_index()\n",
    "#TODO\n",
    "df3_sub_trading_group_final_5_group = df3_sub_trading_group_final_5_group.reset_index()\n",
    "df3_sub_trading_group_final_6_group = df3_sub_trading_group_final_6_group.reset_index()\n",
    "df3_sub_trading_group_final_7_group = df3_sub_trading_group_final_7_group.reset_index()\n",
    "df3_sub_trading_group_final_8_group = df3_sub_trading_group_final_8_group.reset_index()\n",
    "df3_sub_trading_group_final_9_group = df3_sub_trading_group_final_9_group.reset_index()"
   ]
  },
  {
   "cell_type": "code",
   "execution_count": null,
   "metadata": {},
   "outputs": [],
   "source": [
    "df3_sub_trading_group_final_0_group.info()"
   ]
  },
  {
   "cell_type": "code",
   "execution_count": null,
   "metadata": {},
   "outputs": [],
   "source": [
    "# TODO\n",
    "df3_sub_trading_group_final_group = pd.concat([df3_sub_trading_group_final_0_group,df3_sub_trading_group_final_1_group,df3_sub_trading_group_final_2_group,df3_sub_trading_group_final_3_group,df3_sub_trading_group_final_4_group,df3_sub_trading_group_final_5_group,df3_sub_trading_group_final_6_group,df3_sub_trading_group_final_7_group,df3_sub_trading_group_final_8_group,df3_sub_trading_group_final_9_group], ignore_index=True)\n",
    "\n",
    "df3_sub_trading_group_final_group"
   ]
  },
  {
   "cell_type": "code",
   "execution_count": null,
   "metadata": {},
   "outputs": [],
   "source": [
    "# df3_sub_trading_group_final_group04 = pd.concat([df3_sub_trading_group_final_0_group,df3_sub_trading_group_final_1_group,df3_sub_trading_group_final_2_group,df3_sub_trading_group_final_3_group,df3_sub_trading_group_final_4_group], ignore_index=True)\n",
    "# df3_sub_trading_group_final_group04\n",
    "\n"
   ]
  },
  {
   "cell_type": "code",
   "execution_count": null,
   "metadata": {},
   "outputs": [],
   "source": [
    "\n",
    "# df3_sub_trading_group_final_group59 = pd.concat([df3_sub_trading_group_final_5_group,df3_sub_trading_group_final_6_group,df3_sub_trading_group_final_7_group,df3_sub_trading_group_final_8_group,df3_sub_trading_group_final_9_group], ignore_index=True)\n",
    "# df3_sub_trading_group_final_group59"
   ]
  },
  {
   "cell_type": "code",
   "execution_count": null,
   "metadata": {},
   "outputs": [],
   "source": [
    "df3_sub_trading_group_final_group.info()"
   ]
  },
  {
   "cell_type": "code",
   "execution_count": null,
   "metadata": {},
   "outputs": [],
   "source": [
    "df3_sub_trading_group_final_group['统计日期'] = df3_sub_trading_group_final_group['统计日期'].apply(lambda x: x.strftime('%Y-%m-%d'))\n",
    "df3_sub_trading_group_final_group"
   ]
  },
  {
   "cell_type": "code",
   "execution_count": null,
   "metadata": {},
   "outputs": [],
   "source": [
    "df3_sub_trading_group_final_group.to_excel('group_weighted_monthly_return.xlsx', index=False)\n"
   ]
  },
  {
   "cell_type": "markdown",
   "metadata": {},
   "source": [
    "# Comment"
   ]
  },
  {
   "cell_type": "code",
   "execution_count": null,
   "metadata": {},
   "outputs": [],
   "source": []
  },
  {
   "cell_type": "code",
   "execution_count": null,
   "metadata": {},
   "outputs": [],
   "source": []
  },
  {
   "cell_type": "code",
   "execution_count": null,
   "metadata": {},
   "outputs": [],
   "source": []
  },
  {
   "cell_type": "code",
   "execution_count": null,
   "metadata": {},
   "outputs": [],
   "source": []
  }
 ],
 "metadata": {
  "kernelspec": {
   "display_name": "Python 3 (ipykernel)",
   "language": "python",
   "name": "python3"
  },
  "language_info": {
   "codemirror_mode": {
    "name": "ipython",
    "version": 3
   },
   "file_extension": ".py",
   "mimetype": "text/x-python",
   "name": "python",
   "nbconvert_exporter": "python",
   "pygments_lexer": "ipython3",
   "version": "3.8.13"
  }
 },
 "nbformat": 4,
 "nbformat_minor": 4
}
