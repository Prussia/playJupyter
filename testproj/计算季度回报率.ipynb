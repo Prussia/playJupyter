{
 "cells": [
  {
   "cell_type": "code",
   "execution_count": 15,
   "id": "a2d10b8f-e930-4cb7-9e65-eec0fdd865d7",
   "metadata": {},
   "outputs": [
    {
     "name": "stdout",
     "output_type": "stream",
     "text": [
      "Requirement already satisfied: openpyxl in /opt/conda/lib/python3.8/site-packages (3.1.2)\n",
      "Requirement already satisfied: et-xmlfile in /opt/conda/lib/python3.8/site-packages (from openpyxl) (1.1.0)\n"
     ]
    }
   ],
   "source": [
    "#install the excel dependency\n",
    "!pip install openpyxl"
   ]
  },
  {
   "cell_type": "code",
   "execution_count": 16,
   "id": "10853fd2-1781-4dc8-8578-69ed513f446f",
   "metadata": {},
   "outputs": [],
   "source": [
    "import pandas as pd"
   ]
  },
  {
   "cell_type": "code",
   "execution_count": 17,
   "id": "f471c041-997e-451c-bb68-0e69dd3a6f63",
   "metadata": {},
   "outputs": [
    {
     "name": "stdout",
     "output_type": "stream",
     "text": [
      "     年份  月份  分组  加权回报率\n",
      "0  2013   1   0    0.0\n",
      "1  2013   2   0    0.0\n",
      "2  2013   3   0    0.0\n",
      "3  2013   4   0    0.0\n",
      "4  2013   1   1    0.0\n",
      "年份       880\n",
      "月份       880\n",
      "分组       880\n",
      "加权回报率    880\n",
      "dtype: int64\n"
     ]
    }
   ],
   "source": [
    "# import data\n",
    "df = pd.read_excel('计算.xlsx')\n",
    "\n",
    "print(df.head())\n",
    "print(df.count())"
   ]
  },
  {
   "cell_type": "code",
   "execution_count": 18,
   "id": "1675f808-295b-4a26-981b-e16dcb5ccecb",
   "metadata": {},
   "outputs": [
    {
     "name": "stdout",
     "output_type": "stream",
     "text": [
      "     年份  月份  分组  加权回报率\n",
      "0  2013   1   0    0.0\n",
      "1  2013   2   0    0.0\n",
      "2  2013   3   0    0.0\n",
      "3  2013   4   0    0.0\n",
      "4  2013   1   1    0.0\n",
      "年份       880\n",
      "月份       880\n",
      "分组       880\n",
      "加权回报率    880\n",
      "dtype: int64\n"
     ]
    }
   ],
   "source": [
    "# reading csv file \n",
    "df = pd.read_csv(\"计算.csv\")\n",
    "print(df.head())\n",
    "print(df.count())"
   ]
  },
  {
   "cell_type": "code",
   "execution_count": 19,
   "id": "ff5e4fac-e133-40b4-b99d-37b612c3b570",
   "metadata": {},
   "outputs": [],
   "source": [
    "#add a new column\n",
    "df['季度'] = pd.cut(df['月份'], bins=[0, 4, 8, 12], labels=['4', '8', '12'], right=False)"
   ]
  },
  {
   "cell_type": "code",
   "execution_count": 20,
   "id": "d0d7a646-6315-42d6-a749-9b5ebfa8d14c",
   "metadata": {},
   "outputs": [],
   "source": [
    "# 自定义函数计算复合回报率\n",
    "def compound_return(x):\n",
    "    return (1 + x).prod() - 1"
   ]
  },
  {
   "cell_type": "code",
   "execution_count": 21,
   "id": "1c9cfe0b-ca07-432d-85e0-4c340c3314f1",
   "metadata": {},
   "outputs": [],
   "source": [
    "# 使用自定义函数计算每个季度的复合回报率\n",
    "quarterly_returns = df.groupby(['年份', '分组', '季度'])['加权回报率'].apply(compound_return).reset_index()"
   ]
  },
  {
   "cell_type": "code",
   "execution_count": 22,
   "id": "b827790d-cbdb-4ce6-b01b-938481d8e341",
   "metadata": {},
   "outputs": [],
   "source": [
    "# 将'Quarter'列的值替换为对应的月份\n",
    "quarterly_returns['月份'] = quarterly_returns['季度'].replace({'4': '1-4', '8': '5-8', '12': '9-12'})"
   ]
  },
  {
   "cell_type": "code",
   "execution_count": 25,
   "id": "aa822efe-6ffd-4100-a60e-1e68f08a5102",
   "metadata": {},
   "outputs": [],
   "source": [
    "# 输出结果\n",
    "quarterly_returns.to_excel('./quarterly_returns.xlsx', index=False)"
   ]
  },
  {
   "cell_type": "code",
   "execution_count": 26,
   "id": "21c6f5dd-95e9-4e54-bca8-e81d7e194d5b",
   "metadata": {},
   "outputs": [],
   "source": [
    "quarterly_returns.to_csv('./quarterly_returns.csv', index=False)"
   ]
  },
  {
   "cell_type": "code",
   "execution_count": null,
   "id": "780ac9cc-acc0-4286-ab80-b95b22dea7dd",
   "metadata": {},
   "outputs": [],
   "source": []
  }
 ],
 "metadata": {
  "kernelspec": {
   "display_name": "Python 3 (ipykernel)",
   "language": "python",
   "name": "python3"
  },
  "language_info": {
   "codemirror_mode": {
    "name": "ipython",
    "version": 3
   },
   "file_extension": ".py",
   "mimetype": "text/x-python",
   "name": "python",
   "nbconvert_exporter": "python",
   "pygments_lexer": "ipython3",
   "version": "3.8.13"
  }
 },
 "nbformat": 4,
 "nbformat_minor": 5
}
