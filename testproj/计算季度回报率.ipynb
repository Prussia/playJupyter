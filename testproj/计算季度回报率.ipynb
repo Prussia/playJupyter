{
 "cells": [
  {
   "cell_type": "code",
   "execution_count": 1,
   "id": "a2d10b8f-e930-4cb7-9e65-eec0fdd865d7",
   "metadata": {},
   "outputs": [
    {
     "name": "stdout",
     "output_type": "stream",
     "text": [
      "Collecting openpyxl\n",
      "  Downloading openpyxl-3.1.2-py2.py3-none-any.whl (249 kB)\n",
      "\u001b[2K     \u001b[91m━━━━━━\u001b[0m\u001b[90m╺\u001b[0m\u001b[90m━━━━━━━━━━━━━━━━━━━━━━━━━━━━━━━━\u001b[0m \u001b[32m41.0/250.0 kB\u001b[0m \u001b[31m13.7 kB/s\u001b[0m eta \u001b[36m0:00:16\u001b[0m\n",
      "\u001b[?25h\u001b[31mERROR: Exception:\n",
      "Traceback (most recent call last):\n",
      "  File \"/opt/conda/lib/python3.8/site-packages/pip/_vendor/urllib3/response.py\", line 435, in _error_catcher\n",
      "    yield\n",
      "  File \"/opt/conda/lib/python3.8/site-packages/pip/_vendor/urllib3/response.py\", line 516, in read\n",
      "    data = self._fp.read(amt) if not fp_closed else b\"\"\n",
      "  File \"/opt/conda/lib/python3.8/site-packages/pip/_vendor/cachecontrol/filewrapper.py\", line 90, in read\n",
      "    data = self.__fp.read(amt)\n",
      "  File \"/opt/conda/lib/python3.8/http/client.py\", line 459, in read\n",
      "    n = self.readinto(b)\n",
      "  File \"/opt/conda/lib/python3.8/http/client.py\", line 503, in readinto\n",
      "    n = self.fp.readinto(b)\n",
      "  File \"/opt/conda/lib/python3.8/socket.py\", line 669, in readinto\n",
      "    return self._sock.recv_into(b)\n",
      "  File \"/opt/conda/lib/python3.8/ssl.py\", line 1241, in recv_into\n",
      "    return self.read(nbytes, buffer)\n",
      "  File \"/opt/conda/lib/python3.8/ssl.py\", line 1099, in read\n",
      "    return self._sslobj.read(len, buffer)\n",
      "socket.timeout: The read operation timed out\n",
      "\n",
      "During handling of the above exception, another exception occurred:\n",
      "\n",
      "Traceback (most recent call last):\n",
      "  File \"/opt/conda/lib/python3.8/site-packages/pip/_internal/cli/base_command.py\", line 167, in exc_logging_wrapper\n",
      "    status = run_func(*args)\n",
      "  File \"/opt/conda/lib/python3.8/site-packages/pip/_internal/cli/req_command.py\", line 247, in wrapper\n",
      "    return func(self, options, args)\n",
      "  File \"/opt/conda/lib/python3.8/site-packages/pip/_internal/commands/install.py\", line 369, in run\n",
      "    requirement_set = resolver.resolve(\n",
      "  File \"/opt/conda/lib/python3.8/site-packages/pip/_internal/resolution/resolvelib/resolver.py\", line 92, in resolve\n",
      "    result = self._result = resolver.resolve(\n",
      "  File \"/opt/conda/lib/python3.8/site-packages/pip/_vendor/resolvelib/resolvers.py\", line 481, in resolve\n",
      "    state = resolution.resolve(requirements, max_rounds=max_rounds)\n",
      "  File \"/opt/conda/lib/python3.8/site-packages/pip/_vendor/resolvelib/resolvers.py\", line 348, in resolve\n",
      "    self._add_to_criteria(self.state.criteria, r, parent=None)\n",
      "  File \"/opt/conda/lib/python3.8/site-packages/pip/_vendor/resolvelib/resolvers.py\", line 172, in _add_to_criteria\n",
      "    if not criterion.candidates:\n",
      "  File \"/opt/conda/lib/python3.8/site-packages/pip/_vendor/resolvelib/structs.py\", line 151, in __bool__\n",
      "    return bool(self._sequence)\n",
      "  File \"/opt/conda/lib/python3.8/site-packages/pip/_internal/resolution/resolvelib/found_candidates.py\", line 155, in __bool__\n",
      "    return any(self)\n",
      "  File \"/opt/conda/lib/python3.8/site-packages/pip/_internal/resolution/resolvelib/found_candidates.py\", line 143, in <genexpr>\n",
      "    return (c for c in iterator if id(c) not in self._incompatible_ids)\n",
      "  File \"/opt/conda/lib/python3.8/site-packages/pip/_internal/resolution/resolvelib/found_candidates.py\", line 47, in _iter_built\n",
      "    candidate = func()\n",
      "  File \"/opt/conda/lib/python3.8/site-packages/pip/_internal/resolution/resolvelib/factory.py\", line 206, in _make_candidate_from_link\n",
      "    self._link_candidate_cache[link] = LinkCandidate(\n",
      "  File \"/opt/conda/lib/python3.8/site-packages/pip/_internal/resolution/resolvelib/candidates.py\", line 297, in __init__\n",
      "    super().__init__(\n",
      "  File \"/opt/conda/lib/python3.8/site-packages/pip/_internal/resolution/resolvelib/candidates.py\", line 162, in __init__\n",
      "    self.dist = self._prepare()\n",
      "  File \"/opt/conda/lib/python3.8/site-packages/pip/_internal/resolution/resolvelib/candidates.py\", line 231, in _prepare\n",
      "    dist = self._prepare_distribution()\n",
      "  File \"/opt/conda/lib/python3.8/site-packages/pip/_internal/resolution/resolvelib/candidates.py\", line 308, in _prepare_distribution\n",
      "    return preparer.prepare_linked_requirement(self._ireq, parallel_builds=True)\n",
      "  File \"/opt/conda/lib/python3.8/site-packages/pip/_internal/operations/prepare.py\", line 438, in prepare_linked_requirement\n",
      "    return self._prepare_linked_requirement(req, parallel_builds)\n",
      "  File \"/opt/conda/lib/python3.8/site-packages/pip/_internal/operations/prepare.py\", line 483, in _prepare_linked_requirement\n",
      "    local_file = unpack_url(\n",
      "  File \"/opt/conda/lib/python3.8/site-packages/pip/_internal/operations/prepare.py\", line 165, in unpack_url\n",
      "    file = get_http_url(\n",
      "  File \"/opt/conda/lib/python3.8/site-packages/pip/_internal/operations/prepare.py\", line 106, in get_http_url\n",
      "    from_path, content_type = download(link, temp_dir.path)\n",
      "  File \"/opt/conda/lib/python3.8/site-packages/pip/_internal/network/download.py\", line 147, in __call__\n",
      "    for chunk in chunks:\n",
      "  File \"/opt/conda/lib/python3.8/site-packages/pip/_internal/cli/progress_bars.py\", line 53, in _rich_progress_bar\n",
      "    for chunk in iterable:\n",
      "  File \"/opt/conda/lib/python3.8/site-packages/pip/_internal/network/utils.py\", line 63, in response_chunks\n",
      "    for chunk in response.raw.stream(\n",
      "  File \"/opt/conda/lib/python3.8/site-packages/pip/_vendor/urllib3/response.py\", line 573, in stream\n",
      "    data = self.read(amt=amt, decode_content=decode_content)\n",
      "  File \"/opt/conda/lib/python3.8/site-packages/pip/_vendor/urllib3/response.py\", line 538, in read\n",
      "    raise IncompleteRead(self._fp_bytes_read, self.length_remaining)\n",
      "  File \"/opt/conda/lib/python3.8/contextlib.py\", line 131, in __exit__\n",
      "    self.gen.throw(type, value, traceback)\n",
      "  File \"/opt/conda/lib/python3.8/site-packages/pip/_vendor/urllib3/response.py\", line 440, in _error_catcher\n",
      "    raise ReadTimeoutError(self._pool, None, \"Read timed out.\")\n",
      "pip._vendor.urllib3.exceptions.ReadTimeoutError: HTTPSConnectionPool(host='files.pythonhosted.org', port=443): Read timed out.\u001b[0m\u001b[31m\n",
      "\u001b[0m"
     ]
    }
   ],
   "source": [
    "#install the excel dependency\n",
    "!pip install openpyxl"
   ]
  },
  {
   "cell_type": "code",
   "execution_count": 16,
   "id": "10853fd2-1781-4dc8-8578-69ed513f446f",
   "metadata": {},
   "outputs": [],
   "source": [
    "import pandas as pd"
   ]
  },
  {
   "cell_type": "code",
   "execution_count": 17,
   "id": "f471c041-997e-451c-bb68-0e69dd3a6f63",
   "metadata": {},
   "outputs": [
    {
     "name": "stdout",
     "output_type": "stream",
     "text": [
      "     年份  月份  分组  加权回报率\n",
      "0  2013   1   0    0.0\n",
      "1  2013   2   0    0.0\n",
      "2  2013   3   0    0.0\n",
      "3  2013   4   0    0.0\n",
      "4  2013   1   1    0.0\n",
      "年份       880\n",
      "月份       880\n",
      "分组       880\n",
      "加权回报率    880\n",
      "dtype: int64\n"
     ]
    }
   ],
   "source": [
    "# import data\n",
    "df = pd.read_excel('计算.xlsx')\n",
    "\n",
    "print(df.head())\n",
    "print(df.count())"
   ]
  },
  {
   "cell_type": "code",
   "execution_count": 18,
   "id": "1675f808-295b-4a26-981b-e16dcb5ccecb",
   "metadata": {},
   "outputs": [
    {
     "name": "stdout",
     "output_type": "stream",
     "text": [
      "     年份  月份  分组  加权回报率\n",
      "0  2013   1   0    0.0\n",
      "1  2013   2   0    0.0\n",
      "2  2013   3   0    0.0\n",
      "3  2013   4   0    0.0\n",
      "4  2013   1   1    0.0\n",
      "年份       880\n",
      "月份       880\n",
      "分组       880\n",
      "加权回报率    880\n",
      "dtype: int64\n"
     ]
    }
   ],
   "source": [
    "# reading csv file \n",
    "df = pd.read_csv(\"计算.csv\")\n",
    "print(df.head())\n",
    "print(df.count())"
   ]
  },
  {
   "cell_type": "code",
   "execution_count": 19,
   "id": "ff5e4fac-e133-40b4-b99d-37b612c3b570",
   "metadata": {},
   "outputs": [],
   "source": [
    "#add a new column\n",
    "df['季度'] = pd.cut(df['月份'], bins=[0, 4, 8, 12], labels=['4', '8', '12'], right=False)"
   ]
  },
  {
   "cell_type": "code",
   "execution_count": 20,
   "id": "d0d7a646-6315-42d6-a749-9b5ebfa8d14c",
   "metadata": {},
   "outputs": [],
   "source": [
    "# 自定义函数计算复合回报率\n",
    "def compound_return(x):\n",
    "    return (1 + x).prod() - 1"
   ]
  },
  {
   "cell_type": "code",
   "execution_count": 21,
   "id": "1c9cfe0b-ca07-432d-85e0-4c340c3314f1",
   "metadata": {},
   "outputs": [],
   "source": [
    "# 使用自定义函数计算每个季度的复合回报率\n",
    "quarterly_returns = df.groupby(['年份', '分组', '季度'])['加权回报率'].apply(compound_return).reset_index()"
   ]
  },
  {
   "cell_type": "code",
   "execution_count": 22,
   "id": "b827790d-cbdb-4ce6-b01b-938481d8e341",
   "metadata": {},
   "outputs": [],
   "source": [
    "# 将'Quarter'列的值替换为对应的月份\n",
    "quarterly_returns['月份'] = quarterly_returns['季度'].replace({'4': '1-4', '8': '5-8', '12': '9-12'})"
   ]
  },
  {
   "cell_type": "code",
   "execution_count": 25,
   "id": "aa822efe-6ffd-4100-a60e-1e68f08a5102",
   "metadata": {},
   "outputs": [],
   "source": [
    "# 输出结果\n",
    "quarterly_returns.to_excel('./quarterly_returns.xlsx', index=False)"
   ]
  },
  {
   "cell_type": "code",
   "execution_count": 26,
   "id": "21c6f5dd-95e9-4e54-bca8-e81d7e194d5b",
   "metadata": {},
   "outputs": [],
   "source": [
    "quarterly_returns.to_csv('./quarterly_returns.csv', index=False)"
   ]
  },
  {
   "cell_type": "code",
   "execution_count": null,
   "id": "780ac9cc-acc0-4286-ab80-b95b22dea7dd",
   "metadata": {},
   "outputs": [],
   "source": []
  }
 ],
 "metadata": {
  "kernelspec": {
   "display_name": "Python 3 (ipykernel)",
   "language": "python",
   "name": "python3"
  },
  "language_info": {
   "codemirror_mode": {
    "name": "ipython",
    "version": 3
   },
   "file_extension": ".py",
   "mimetype": "text/x-python",
   "name": "python",
   "nbconvert_exporter": "python",
   "pygments_lexer": "ipython3",
   "version": "3.8.13"
  }
 },
 "nbformat": 4,
 "nbformat_minor": 5
}
