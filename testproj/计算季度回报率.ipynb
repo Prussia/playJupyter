{
 "cells": [
  {
   "cell_type": "code",
   "execution_count": 2,
   "id": "a2d10b8f-e930-4cb7-9e65-eec0fdd865d7",
   "metadata": {},
   "outputs": [
    {
     "name": "stdout",
     "output_type": "stream",
     "text": [
      "Requirement already satisfied: openpyxl in /opt/conda/lib/python3.8/site-packages (3.1.2)\n",
      "Requirement already satisfied: et-xmlfile in /opt/conda/lib/python3.8/site-packages (from openpyxl) (1.1.0)\n"
     ]
    }
   ],
   "source": [
    "!pip install openpyxl"
   ]
  },
  {
   "cell_type": "code",
   "execution_count": 3,
   "id": "10853fd2-1781-4dc8-8578-69ed513f446f",
   "metadata": {},
   "outputs": [],
   "source": [
    "import pandas as pd"
   ]
  },
  {
   "cell_type": "code",
   "execution_count": 4,
   "id": "f471c041-997e-451c-bb68-0e69dd3a6f63",
   "metadata": {},
   "outputs": [],
   "source": [
    "# import data\n",
    "df = pd.read_excel('计算.xlsx')\n",
    "\n",
    "df['季度'] = pd.cut(df['月份'], bins=[0, 4, 8, 12], labels=['4', '8', '12'], right=False)"
   ]
  },
  {
   "cell_type": "code",
   "execution_count": 5,
   "id": "d0d7a646-6315-42d6-a749-9b5ebfa8d14c",
   "metadata": {},
   "outputs": [],
   "source": [
    "# 自定义函数计算复合回报率\n",
    "def compound_return(x):\n",
    "    return (1 + x).prod() - 1"
   ]
  },
  {
   "cell_type": "code",
   "execution_count": 6,
   "id": "1c9cfe0b-ca07-432d-85e0-4c340c3314f1",
   "metadata": {},
   "outputs": [],
   "source": [
    "# 使用自定义函数计算每个季度的复合回报率\n",
    "quarterly_returns = df.groupby(['年份', '分组', '季度'])['加权回报率'].apply(compound_return).reset_index()"
   ]
  },
  {
   "cell_type": "code",
   "execution_count": 8,
   "id": "b827790d-cbdb-4ce6-b01b-938481d8e341",
   "metadata": {},
   "outputs": [],
   "source": [
    "# 将'Quarter'列的值替换为对应的月份\n",
    "quarterly_returns['月份'] = quarterly_returns['季度'].replace({'4': '1-4', '8': '5-8', '12': '9-12'})"
   ]
  },
  {
   "cell_type": "code",
   "execution_count": 9,
   "id": "aa822efe-6ffd-4100-a60e-1e68f08a5102",
   "metadata": {},
   "outputs": [],
   "source": [
    "\n",
    "# 输出结果\n",
    "quarterly_returns.to_excel('./quarterly_returns.xlsx', index=False)"
   ]
  },
  {
   "cell_type": "code",
   "execution_count": null,
   "id": "21c6f5dd-95e9-4e54-bca8-e81d7e194d5b",
   "metadata": {},
   "outputs": [],
   "source": []
  }
 ],
 "metadata": {
  "kernelspec": {
   "display_name": "Python 3 (ipykernel)",
   "language": "python",
   "name": "python3"
  },
  "language_info": {
   "codemirror_mode": {
    "name": "ipython",
    "version": 3
   },
   "file_extension": ".py",
   "mimetype": "text/x-python",
   "name": "python",
   "nbconvert_exporter": "python",
   "pygments_lexer": "ipython3",
   "version": "3.8.13"
  }
 },
 "nbformat": 4,
 "nbformat_minor": 5
}
