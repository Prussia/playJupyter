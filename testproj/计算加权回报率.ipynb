{
 "cells": [
  {
   "cell_type": "code",
   "execution_count": 3,
   "id": "29cfdcf8-935a-4c79-9d28-291b70e9502e",
   "metadata": {},
   "outputs": [],
   "source": [
    "import pandas as pd"
   ]
  },
  {
   "cell_type": "code",
   "execution_count": 4,
   "id": "92012bf5-f7fb-46c3-905c-7c744c352bb2",
   "metadata": {},
   "outputs": [],
   "source": [
    "# import data\n",
    "df1_1 = pd.read_excel('证券2.xlsx')\n",
    "df1_2 = pd.read_excel('证券1.xlsx')\n",
    "df1_3 = pd.concat([df1_1, df1_2], ignore_index=True)\n",
    "df1 = df1_3[df1_3['民营指数'] >= 1]\n"
   ]
  },
  {
   "cell_type": "code",
   "execution_count": null,
   "id": "1bc5d243-3af5-4227-9a56-da9b7c287773",
   "metadata": {},
   "outputs": [],
   "source": [
    "df2 = pd.read_excel('TRD_Mnth.xlsx')\n",
    "\n",
    "df1['统计日期'] = pd.to_datetime(df1['统计截止日期'])\n",
    "df2['统计日期'] = pd.to_datetime(df2['交易月份'])"
   ]
  },
  {
   "cell_type": "code",
   "execution_count": 2,
   "id": "c90023e9-cd46-404a-854a-2467f80d2a3f",
   "metadata": {},
   "outputs": [
    {
     "name": "stderr",
     "output_type": "stream",
     "text": [
      "/tmp/ipykernel_1374/2103391194.py:8: SettingWithCopyWarning: \n",
      "A value is trying to be set on a copy of a slice from a DataFrame.\n",
      "Try using .loc[row_indexer,col_indexer] = value instead\n",
      "\n",
      "See the caveats in the documentation: https://pandas.pydata.org/pandas-docs/stable/user_guide/indexing.html#returning-a-view-versus-a-copy\n",
      "  df1['统计日期'] = pd.to_datetime(df1['统计截止日期'])\n"
     ]
    }
   ],
   "source": [
    "\n",
    "\n",
    "\n",
    "df1_sorted = df1.sort_values(by=['统计日期', '其他持股比例'], ascending=[True, False])\n",
    "\n",
    "grouped_returns = pd.DataFrame()\n",
    "\n",
    "periods = {\n",
    "    9: (1, 4),\n",
    "    3: (5, 8),\n",
    "    6: (9, 12)\n",
    "}\n"
   ]
  },
  {
   "cell_type": "code",
   "execution_count": null,
   "id": "39a8ff8f-fcda-4ec1-8555-666ef3c96d7f",
   "metadata": {},
   "outputs": [],
   "source": [
    "\n",
    "for month, (start_month, end_month) in periods.items():\n",
    "    # 筛选出分组月份的数据\n",
    "    df1_monthly = df1_sorted[df1_sorted['统计日期'].dt.month == month]\n",
    "\n",
    "    # 对每一年的数据进行操作\n",
    "    for year in df1_monthly['统计日期'].dt.year.unique():\n",
    "        # 获取当前年份和上一年的数据\n",
    "        current_year_data = df1_monthly[df1_monthly['统计日期'].dt.year == year]\n",
    "        previous_year_data = df1_monthly[df1_monthly['统计日期'].dt.year == year - 1]\n",
    "\n",
    "        # 对当前年份的数据进行分组\n",
    "        current_year_data['分组'] = pd.qcut(current_year_data['其他持股比例'], 5, labels=False, duplicates='drop')\n",
    "\n",
    "\n",
    "        # 遍历每个分组\n",
    "        for group in range(5):\n",
    "            # 获取上一年同一分组的证券代码\n",
    "            previous_group_codes = previous_year_data[previous_year_data['证券代码'].isin(current_year_data[current_year_data['分组'] == group]['证券代码'])]['证券代码']\n",
    "\n",
    "            # 计算加权回报率\n",
    "            for month in range(start_month, end_month + 1):\n",
    "                # 获取对应月份的数据\n",
    "                df2_monthly = df2[(df2['统计日期'].dt.year == year) & (df2['统计日期'].dt.month == month)]\n",
    "\n",
    "                # 筛选出属于当前分组的股票\n",
    "                df2_group = df2_monthly[df2_monthly['证券代码'].isin(previous_group_codes)]\n",
    "\n",
    "                # 计算加权回报率\n",
    "                total_market_value = df2_group['个股市值'].sum()\n",
    "                df2_group['加权回报率'] = df2_group['个股市值'] / total_market_value * df2_group['个股月回报率']\n",
    "                weighted_return = df2_group['加权回报率'].sum()\n",
    "\n",
    "                # 将结果存储到grouped_returns中\n",
    "                new_data = pd.DataFrame({\n",
    "                    '年份': [year],\n",
    "                    '月份': [month],\n",
    "                    '分组': [group],\n",
    "                    '加权回报率': [weighted_return]\n",
    "                })\n",
    "\n",
    "                grouped_returns = pd.concat([grouped_returns, new_data], ignore_index=True)\n"
   ]
  },
  {
   "cell_type": "code",
   "execution_count": null,
   "id": "458fe69c-f2a4-456d-a8e1-986d2addb244",
   "metadata": {},
   "outputs": [],
   "source": [
    "print(grouped_returns.head())\n"
   ]
  },
  {
   "cell_type": "code",
   "execution_count": null,
   "id": "def6cf4f-a25d-4942-9eff-c1224e675c99",
   "metadata": {},
   "outputs": [],
   "source": [
    "grouped_returns.to_excel('计算.xlsx', index=False)"
   ]
  }
 ],
 "metadata": {
  "kernelspec": {
   "display_name": "Python 3 (ipykernel)",
   "language": "python",
   "name": "python3"
  },
  "language_info": {
   "codemirror_mode": {
    "name": "ipython",
    "version": 3
   },
   "file_extension": ".py",
   "mimetype": "text/x-python",
   "name": "python",
   "nbconvert_exporter": "python",
   "pygments_lexer": "ipython3",
   "version": "3.8.13"
  }
 },
 "nbformat": 4,
 "nbformat_minor": 5
}
